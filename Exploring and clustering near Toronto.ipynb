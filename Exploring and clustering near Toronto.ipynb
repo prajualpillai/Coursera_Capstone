{
  "nbformat": 4,
  "nbformat_minor": 0,
  "metadata": {
    "colab": {
      "name": "Adding lat&long.ipynb",
      "provenance": [],
      "include_colab_link": true
    },
    "kernelspec": {
      "display_name": "Python 3",
      "language": "python",
      "name": "python3"
    },
    "language_info": {
      "codemirror_mode": {
        "name": "ipython",
        "version": 3
      },
      "file_extension": ".py",
      "mimetype": "text/x-python",
      "name": "python",
      "nbconvert_exporter": "python",
      "pygments_lexer": "ipython3",
      "version": "3.7.6"
    }
  },
  "cells": [
    {
      "cell_type": "markdown",
      "metadata": {
        "id": "view-in-github",
        "colab_type": "text"
      },
      "source": [
        "<a href=\"https://colab.research.google.com/github/prajualpillai/Coursera_Capstone/blob/master/Exploring%20and%20clustering%20near%20Toronto.ipynb\" target=\"_parent\"><img src=\"https://colab.research.google.com/assets/colab-badge.svg\" alt=\"Open In Colab\"/></a>"
      ]
    },
    {
      "cell_type": "code",
      "metadata": {
        "colab_type": "code",
        "id": "xyuKayvDnRXI",
        "colab": {}
      },
      "source": [
        "import pandas as pd\n",
        "import numpy as np \n",
        "from bs4 import BeautifulSoup as bs\n",
        "import requests as req\n",
        "import matplotlib.cm as cm\n",
        "import matplotlib.colors as colors"
      ],
      "execution_count": 0,
      "outputs": []
    },
    {
      "cell_type": "markdown",
      "metadata": {
        "id": "2ZC81tsA127L",
        "colab_type": "text"
      },
      "source": [
        "# Scraping data from the website"
      ]
    },
    {
      "cell_type": "code",
      "metadata": {
        "colab_type": "code",
        "id": "WaU6cNIen0w3",
        "colab": {}
      },
      "source": [
        "url = \"https://en.wikipedia.org/wiki/List_of_postal_codes_of_Canada:_M\"\n",
        "web = req.get(url)"
      ],
      "execution_count": 0,
      "outputs": []
    },
    {
      "cell_type": "markdown",
      "metadata": {
        "id": "Tyj-e4fP127P",
        "colab_type": "text"
      },
      "source": [
        "## Checking if data has been scraped from website"
      ]
    },
    {
      "cell_type": "code",
      "metadata": {
        "colab_type": "code",
        "id": "D2FZyMT-oDbu",
        "outputId": "535ca355-a5fb-4a59-870a-a08d68d3b73d",
        "colab": {
          "base_uri": "https://localhost:8080/",
          "height": 34
        }
      },
      "source": [
        "web.status_code"
      ],
      "execution_count": 157,
      "outputs": [
        {
          "output_type": "execute_result",
          "data": {
            "text/plain": [
              "200"
            ]
          },
          "metadata": {
            "tags": []
          },
          "execution_count": 157
        }
      ]
    },
    {
      "cell_type": "markdown",
      "metadata": {
        "id": "VuFSBHwY127R",
        "colab_type": "text"
      },
      "source": [
        "## Extracting the content of the scraped data"
      ]
    },
    {
      "cell_type": "code",
      "metadata": {
        "colab_type": "code",
        "id": "B3790mPFoOII",
        "outputId": "313b6fc4-8f89-48fc-b6b7-f569c99467a7",
        "colab": {
          "base_uri": "https://localhost:8080/",
          "height": 54
        }
      },
      "source": [
        "x = web.content\n",
        "print(x)"
      ],
      "execution_count": 158,
      "outputs": [
        {
          "output_type": "stream",
          "text": [
            "b'\\n<!DOCTYPE html>\\n<html class=\"client-nojs\" lang=\"en\" dir=\"ltr\">\\n<head>\\n<meta charset=\"UTF-8\"/>\\n<title>List of postal codes of Canada: M - Wikipedia</title>\\n<script>document.documentElement.className=\"client-js\";RLCONF={\"wgBreakFrames\":!1,\"wgSeparatorTransformTable\":[\"\",\"\"],\"wgDigitTransformTable\":[\"\",\"\"],\"wgDefaultDateFormat\":\"dmy\",\"wgMonthNames\":[\"\",\"January\",\"February\",\"March\",\"April\",\"May\",\"June\",\"July\",\"August\",\"September\",\"October\",\"November\",\"December\"],\"wgRequestId\":\"XrRJvgpAEKcAAI@-EI0AAAAQ\",\"wgCSPNonce\":!1,\"wgCanonicalNamespace\":\"\",\"wgCanonicalSpecialPageName\":!1,\"wgNamespaceNumber\":0,\"wgPageName\":\"List_of_postal_codes_of_Canada:_M\",\"wgTitle\":\"List of postal codes of Canada: M\",\"wgCurRevisionId\":955414546,\"wgRevisionId\":955414546,\"wgArticleId\":539066,\"wgIsArticle\":!0,\"wgIsRedirect\":!1,\"wgAction\":\"view\",\"wgUserName\":null,\"wgUserGroups\":[\"*\"],\"wgCategories\":[\"Articles with short description\",\"Communications in Ontario\",\"Postal codes in Canada\",\"Toronto\",\"Ontario-related lists\"],\"wgPageContentLanguage\":\"en\",\"wgPageContentModel\":\"wikitext\",\"wgRelevantPageName\":\"List_of_postal_codes_of_Canada:_M\",\"wgRelevantArticleId\":539066,\\n\"wgIsProbablyEditable\":!0,\"wgRelevantPageIsProbablyEditable\":!0,\"wgRestrictionEdit\":[],\"wgRestrictionMove\":[],\"wgMediaViewerOnClick\":!0,\"wgMediaViewerEnabledByDefault\":!0,\"wgPopupsReferencePreviews\":!1,\"wgPopupsConflictsWithNavPopupGadget\":!1,\"wgVisualEditor\":{\"pageLanguageCode\":\"en\",\"pageLanguageDir\":\"ltr\",\"pageVariantFallbacks\":\"en\"},\"wgMFDisplayWikibaseDescriptions\":{\"search\":!0,\"nearby\":!0,\"watchlist\":!0,\"tagline\":!1},\"wgWMESchemaEditAttemptStepOversample\":!1,\"wgULSCurrentAutonym\":\"English\",\"wgNoticeProject\":\"wikipedia\",\"wgWikibaseItemId\":\"Q3248240\",\"wgCentralAuthMobileDomain\":!1,\"wgEditSubmitButtonLabelPublish\":!0};RLSTATE={\"ext.globalCssJs.user.styles\":\"ready\",\"site.styles\":\"ready\",\"noscript\":\"ready\",\"user.styles\":\"ready\",\"ext.globalCssJs.user\":\"ready\",\"user\":\"ready\",\"user.options\":\"loading\",\"ext.cite.styles\":\"ready\",\"jquery.tablesorter.styles\":\"ready\",\"skins.vector.styles.legacy\":\"ready\",\"wikibase.client.init\":\"ready\",\\n\"ext.visualEditor.desktopArticleTarget.noscript\":\"ready\",\"ext.uls.interlanguage\":\"ready\",\"ext.wikimediaBadges\":\"ready\"};RLPAGEMODULES=[\"ext.cite.ux-enhancements\",\"site\",\"mediawiki.page.startup\",\"skins.vector.js\",\"mediawiki.page.ready\",\"jquery.tablesorter\",\"ext.gadget.ReferenceTooltips\",\"ext.gadget.charinsert\",\"ext.gadget.refToolbar\",\"ext.gadget.extra-toolbar-buttons\",\"ext.gadget.switcher\",\"ext.centralauth.centralautologin\",\"mmv.head\",\"mmv.bootstrap.autostart\",\"ext.popups\",\"ext.visualEditor.desktopArticleTarget.init\",\"ext.visualEditor.targetLoader\",\"ext.eventLogging\",\"ext.wikimediaEvents\",\"ext.navigationTiming\",\"ext.uls.compactlinks\",\"ext.uls.interface\",\"ext.cx.eventlogging.campaigns\",\"ext.quicksurveys.init\",\"ext.centralNotice.geoIP\",\"ext.centralNotice.startUp\"];</script>\\n<script>(RLQ=window.RLQ||[]).push(function(){mw.loader.implement(\"user.options@1hzgi\",function($,jQuery,require,module){/*@nomin*/mw.user.tokens.set({\"patrolToken\":\"+\\\\\\\\\",\"watchToken\":\"+\\\\\\\\\",\"csrfToken\":\"+\\\\\\\\\"});\\n});});</script>\\n<link rel=\"stylesheet\" href=\"/w/load.php?lang=en&amp;modules=ext.cite.styles%7Cext.uls.interlanguage%7Cext.visualEditor.desktopArticleTarget.noscript%7Cext.wikimediaBadges%7Cjquery.tablesorter.styles%7Cskins.vector.styles.legacy%7Cwikibase.client.init&amp;only=styles&amp;skin=vector\"/>\\n<script async=\"\" src=\"/w/load.php?lang=en&amp;modules=startup&amp;only=scripts&amp;raw=1&amp;skin=vector\"></script>\\n<meta name=\"ResourceLoaderDynamicStyles\" content=\"\"/>\\n<link rel=\"stylesheet\" href=\"/w/load.php?lang=en&amp;modules=site.styles&amp;only=styles&amp;skin=vector\"/>\\n<meta name=\"generator\" content=\"MediaWiki 1.35.0-wmf.30\"/>\\n<meta name=\"referrer\" content=\"origin\"/>\\n<meta name=\"referrer\" content=\"origin-when-crossorigin\"/>\\n<meta name=\"referrer\" content=\"origin-when-cross-origin\"/>\\n<link rel=\"alternate\" type=\"application/x-wiki\" title=\"Edit this page\" href=\"/w/index.php?title=List_of_postal_codes_of_Canada:_M&amp;action=edit\"/>\\n<link rel=\"edit\" title=\"Edit this page\" href=\"/w/index.php?title=List_of_postal_codes_of_Canada:_M&amp;action=edit\"/>\\n<link rel=\"apple-touch-icon\" href=\"/static/apple-touch/wikipedia.png\"/>\\n<link rel=\"shortcut icon\" href=\"/static/favicon/wikipedia.ico\"/>\\n<link rel=\"search\" type=\"application/opensearchdescription+xml\" href=\"/w/opensearch_desc.php\" title=\"Wikipedia (en)\"/>\\n<link rel=\"EditURI\" type=\"application/rsd+xml\" href=\"//en.wikipedia.org/w/api.php?action=rsd\"/>\\n<link rel=\"license\" href=\"//creativecommons.org/licenses/by-sa/3.0/\"/>\\n<link rel=\"alternate\" type=\"application/atom+xml\" title=\"Wikipedia Atom feed\" href=\"/w/index.php?title=Special:RecentChanges&amp;feed=atom\"/>\\n<link rel=\"canonical\" href=\"https://en.wikipedia.org/wiki/List_of_postal_codes_of_Canada:_M\"/>\\n<link rel=\"dns-prefetch\" href=\"//login.wikimedia.org\"/>\\n<link rel=\"dns-prefetch\" href=\"//meta.wikimedia.org\" />\\n<!--[if lt IE 9]><script src=\"/w/resources/lib/html5shiv/html5shiv.js\"></script><![endif]-->\\n</head>\\n<body class=\"mediawiki ltr sitedir-ltr mw-hide-empty-elt ns-0 ns-subject mw-editable page-List_of_postal_codes_of_Canada_M rootpage-List_of_postal_codes_of_Canada_M skin-vector action-view\">\\n<div id=\"mw-page-base\" class=\"noprint\"></div>\\n<div id=\"mw-head-base\" class=\"noprint\"></div>\\n<div id=\"content\" class=\"mw-body\" role=\"main\">\\n\\t<a id=\"top\"></a>\\n\\t\\t<div id=\"siteNotice\" class=\"mw-body-content\"><!-- CentralNotice --></div>\\n\\t<div class=\"mw-indicators mw-body-content\">\\n</div>\\n\\n\\t<h1 id=\"firstHeading\" class=\"firstHeading\" lang=\"en\">List of postal codes of Canada: M</h1>\\n\\t\\n\\t<div id=\"bodyContent\" class=\"mw-body-content\">\\n\\t\\t<div id=\"siteSub\" class=\"noprint\">From Wikipedia, the free encyclopedia</div>\\n\\t\\t<div id=\"contentSub\"></div>\\n\\t\\t\\n\\t\\t\\n\\t\\t<div id=\"jump-to-nav\"></div>\\n\\t\\t<a class=\"mw-jump-link\" href=\"#mw-head\">Jump to navigation</a>\\n\\t\\t<a class=\"mw-jump-link\" href=\"#p-search\">Jump to search</a>\\n\\t\\t<div id=\"mw-content-text\" lang=\"en\" dir=\"ltr\" class=\"mw-content-ltr\"><div class=\"mw-parser-output\"><div class=\"shortdescription nomobile noexcerpt noprint searchaux\" style=\"display:none\">Wikipedia list article</div>\\n<p>This is a list of <a href=\"/wiki/Postal_codes_in_Canada\" title=\"Postal codes in Canada\">postal codes in Canada</a> where the first letter is M. Postal codes beginning with M are located within the city of <a href=\"/wiki/Toronto\" title=\"Toronto\">Toronto</a> in the province of <a href=\"/wiki/Ontario\" title=\"Ontario\">Ontario</a>. Only the first three characters are listed, corresponding to the Forward Sortation Area.\\n</p><p><a href=\"/wiki/Canada_Post\" title=\"Canada Post\">Canada Post</a> provides a free postal code look-up tool on its website,<sup id=\"cite_ref-1\" class=\"reference\"><a href=\"#cite_note-1\">&#91;1&#93;</a></sup> via its <a href=\"/wiki/Mobile_app\" title=\"Mobile app\">applications</a> for such <a href=\"/wiki/Smartphones\" class=\"mw-redirect\" title=\"Smartphones\">smartphones</a> as the <a href=\"/wiki/IPhone\" title=\"IPhone\">iPhone</a> and <a href=\"/wiki/BlackBerry\" title=\"BlackBerry\">BlackBerry</a>,<sup id=\"cite_ref-2\" class=\"reference\"><a href=\"#cite_note-2\">&#91;2&#93;</a></sup>  and sells hard-copy directories and <a href=\"/wiki/CD-ROM\" title=\"CD-ROM\">CD-ROMs</a>. Many vendors also sell validation tools, which allow customers to properly match addresses and postal codes. Hard-copy directories can also be consulted in all post offices, and some libraries.\\n</p>\\n<h2><span class=\"mw-headline\" id=\"Toronto_-_103_FSAs\"><a href=\"/wiki/Toronto\" title=\"Toronto\">Toronto</a> - 103 <a href=\"/wiki/Postal_codes_in_Canada#Forward_sortation_areas\" title=\"Postal codes in Canada\">FSAs</a></span><span class=\"mw-editsection\"><span class=\"mw-editsection-bracket\">[</span><a href=\"/w/index.php?title=List_of_postal_codes_of_Canada:_M&amp;action=edit&amp;section=1\" title=\"Edit section: Toronto - 103 FSAs\">edit</a><span class=\"mw-editsection-bracket\">]</span></span></h2>\\n<p>Note: There are no rural FSAs in Toronto, hence no postal codes should start with M0, however, the postal code M0R 8T0 is assigned to an <a href=\"/wiki/Amazon_(company)\" title=\"Amazon (company)\">Amazon</a> warehouse in Mississauga, suggesting that Canada Post may be allocating the M0 FSA for high volume addresses.\\n</p>\\n<table class=\"wikitable sortable\">\\n<tbody><tr>\\n<th>Postal Code\\n</th>\\n<th>Borough\\n</th>\\n<th>Neighborhood\\n</th></tr>\\n<tr>\\n<td>M1A\\n</td>\\n<td>Not assigned\\n</td>\\n<td>\\n</td></tr>\\n<tr>\\n<td>M2A\\n</td>\\n<td>Not assigned\\n</td>\\n<td>\\n</td></tr>\\n<tr>\\n<td>M3A\\n</td>\\n<td>North York\\n</td>\\n<td>Parkwoods\\n</td></tr>\\n<tr>\\n<td>M4A\\n</td>\\n<td>North York\\n</td>\\n<td>Victoria Village\\n</td></tr>\\n<tr>\\n<td>M5A\\n</td>\\n<td>Downtown Toronto\\n</td>\\n<td>Regent Park, Harbourfront\\n</td></tr>\\n<tr>\\n<td>M6A\\n</td>\\n<td>North York\\n</td>\\n<td>Lawrence Manor, Lawrence Heights\\n</td></tr>\\n<tr>\\n<td>M7A\\n</td>\\n<td>Downtown Toronto\\n</td>\\n<td>Queen\\'s Park, Ontario Provincial Government\\n</td></tr>\\n<tr>\\n<td>M8A\\n</td>\\n<td>Not assigned\\n</td>\\n<td>\\n</td></tr>\\n<tr>\\n<td>M9A\\n</td>\\n<td>Etobicoke\\n</td>\\n<td>Islington Avenue\\n</td></tr>\\n<tr>\\n<td>M1B\\n</td>\\n<td>Scarborough\\n</td>\\n<td>Malvern, Rouge\\n</td></tr>\\n<tr>\\n<td>M2B\\n</td>\\n<td>Not assigned\\n</td>\\n<td>\\n</td></tr>\\n<tr>\\n<td>M3B\\n</td>\\n<td>North York\\n</td>\\n<td>Don Mills\\n</td></tr>\\n<tr>\\n<td>M4B\\n</td>\\n<td>East York\\n</td>\\n<td>Parkview Hill, Woodbine Gardens\\n</td></tr>\\n<tr>\\n<td>M5B\\n</td>\\n<td>Downtown Toronto\\n</td>\\n<td>Garden District, Ryerson\\n</td></tr>\\n<tr>\\n<td>M6B\\n</td>\\n<td>North York\\n</td>\\n<td>Glencairn\\n</td></tr>\\n<tr>\\n<td>M7B\\n</td>\\n<td>Not assigned\\n</td>\\n<td>\\n</td></tr>\\n<tr>\\n<td>M8B\\n</td>\\n<td>Not assigned\\n</td>\\n<td>\\n</td></tr>\\n<tr>\\n<td>M9B\\n</td>\\n<td>Etobicoke\\n</td>\\n<td>West Deane Park, Princess Gardens, Martin Grove, Islington, Cloverdale\\n</td></tr>\\n<tr>\\n<td>M1C\\n</td>\\n<td>Scarborough\\n</td>\\n<td>Rouge Hill, Port Union, Highland Creek\\n</td></tr>\\n<tr>\\n<td>M2C\\n</td>\\n<td>Not assigned\\n</td>\\n<td>\\n</td></tr>\\n<tr>\\n<td>M3C\\n</td>\\n<td>North York\\n</td>\\n<td>Don Mills\\n</td></tr>\\n<tr>\\n<td>M4C\\n</td>\\n<td>East York\\n</td>\\n<td>Woodbine Heights\\n</td></tr>\\n<tr>\\n<td>M5C\\n</td>\\n<td>Downtown Toronto\\n</td>\\n<td>St. James Town\\n</td></tr>\\n<tr>\\n<td>M6C\\n</td>\\n<td>York\\n</td>\\n<td>Humewood-Cedarvale\\n</td></tr>\\n<tr>\\n<td>M7C\\n</td>\\n<td>Not assigned\\n</td>\\n<td>\\n</td></tr>\\n<tr>\\n<td>M8C\\n</td>\\n<td>Not assigned\\n</td>\\n<td>\\n</td></tr>\\n<tr>\\n<td>M9C\\n</td>\\n<td>Etobicoke\\n</td>\\n<td>Eringate, Bloordale Gardens, Old Burnhamthorpe, Markland Wood\\n</td></tr>\\n<tr>\\n<td>M1E\\n</td>\\n<td>Scarborough\\n</td>\\n<td>Guildwood, Morningside, West Hill\\n</td></tr>\\n<tr>\\n<td>M2E\\n</td>\\n<td>Not assigned\\n</td>\\n<td>\\n</td></tr>\\n<tr>\\n<td>M3E\\n</td>\\n<td>Not assigned\\n</td>\\n<td>\\n</td></tr>\\n<tr>\\n<td>M4E\\n</td>\\n<td>East Toronto\\n</td>\\n<td>The Beaches\\n</td></tr>\\n<tr>\\n<td>M5E\\n</td>\\n<td>Downtown Toronto\\n</td>\\n<td>Berczy Park\\n</td></tr>\\n<tr>\\n<td>M6E\\n</td>\\n<td>York\\n</td>\\n<td>Caledonia-Fairbanks\\n</td></tr>\\n<tr>\\n<td>M7E\\n</td>\\n<td>Not assigned\\n</td>\\n<td>\\n</td></tr>\\n<tr>\\n<td>M8E\\n</td>\\n<td>Not assigned\\n</td>\\n<td>\\n</td></tr>\\n<tr>\\n<td>M9E\\n</td>\\n<td>Not assigned\\n</td>\\n<td>\\n</td></tr>\\n<tr>\\n<td>M1G\\n</td>\\n<td>Scarborough\\n</td>\\n<td>Woburn\\n</td></tr>\\n<tr>\\n<td>M2G\\n</td>\\n<td>Not assigned\\n</td>\\n<td>\\n</td></tr>\\n<tr>\\n<td>M3G\\n</td>\\n<td>Not assigned\\n</td>\\n<td>\\n</td></tr>\\n<tr>\\n<td>M4G\\n</td>\\n<td>East York\\n</td>\\n<td>Leaside\\n</td></tr>\\n<tr>\\n<td>M5G\\n</td>\\n<td>Downtown Toronto\\n</td>\\n<td>Central Bay Street\\n</td></tr>\\n<tr>\\n<td>M6G\\n</td>\\n<td>Downtown Toronto\\n</td>\\n<td>Christie\\n</td></tr>\\n<tr>\\n<td>M7G\\n</td>\\n<td>Not assigned\\n</td>\\n<td>\\n</td></tr>\\n<tr>\\n<td>M8G\\n</td>\\n<td>Not assigned\\n</td>\\n<td>\\n</td></tr>\\n<tr>\\n<td>M9G\\n</td>\\n<td>Not assigned\\n</td>\\n<td>\\n</td></tr>\\n<tr>\\n<td>M1H\\n</td>\\n<td>Scarborough\\n</td>\\n<td>Cedarbrae\\n</td></tr>\\n<tr>\\n<td>M2H\\n</td>\\n<td>North York\\n</td>\\n<td>Hillcrest Village\\n</td></tr>\\n<tr>\\n<td>M3H\\n</td>\\n<td>North York\\n</td>\\n<td>Bathurst Manor, Wilson Heights, Downsview North\\n</td></tr>\\n<tr>\\n<td>M4H\\n</td>\\n<td>East York\\n</td>\\n<td>Thorncliffe Park\\n</td></tr>\\n<tr>\\n<td>M5H\\n</td>\\n<td>Downtown Toronto\\n</td>\\n<td>Richmond, Adelaide, King\\n</td></tr>\\n<tr>\\n<td>M6H\\n</td>\\n<td>West Toronto\\n</td>\\n<td>Dufferin, Dovercourt Village\\n</td></tr>\\n<tr>\\n<td>M7H\\n</td>\\n<td>Not assigned\\n</td>\\n<td>\\n</td></tr>\\n<tr>\\n<td>M8H\\n</td>\\n<td>Not assigned\\n</td>\\n<td>\\n</td></tr>\\n<tr>\\n<td>M9H\\n</td>\\n<td>Not assigned\\n</td>\\n<td>\\n</td></tr>\\n<tr>\\n<td>M1J\\n</td>\\n<td>Scarborough\\n</td>\\n<td>Scarborough Village\\n</td></tr>\\n<tr>\\n<td>M2J\\n</td>\\n<td>North York\\n</td>\\n<td>Fairview, Henry Farm, Oriole\\n</td></tr>\\n<tr>\\n<td>M3J\\n</td>\\n<td>North York\\n</td>\\n<td>Northwood Park, York University\\n</td></tr>\\n<tr>\\n<td>M4J\\n</td>\\n<td>East York\\n</td>\\n<td>East Toronto\\n</td></tr>\\n<tr>\\n<td>M5J\\n</td>\\n<td>Downtown Toronto\\n</td>\\n<td>Harbourfront East, Union Station, Toronto Islands\\n</td></tr>\\n<tr>\\n<td>M6J\\n</td>\\n<td>West Toronto\\n</td>\\n<td>Little Portugal, Trinity\\n</td></tr>\\n<tr>\\n<td>M7J\\n</td>\\n<td>Not assigned\\n</td>\\n<td>\\n</td></tr>\\n<tr>\\n<td>M8J\\n</td>\\n<td>Not assigned\\n</td>\\n<td>\\n</td></tr>\\n<tr>\\n<td>M9J\\n</td>\\n<td>Not assigned\\n</td>\\n<td>\\n</td></tr>\\n<tr>\\n<td>M1K\\n</td>\\n<td>Scarborough\\n</td>\\n<td>Kennedy Park, Ionview, East Birchmount Park\\n</td></tr>\\n<tr>\\n<td>M2K\\n</td>\\n<td>North York\\n</td>\\n<td>Bayview Village\\n</td></tr>\\n<tr>\\n<td>M3K\\n</td>\\n<td>North York\\n</td>\\n<td>Downsview\\n</td></tr>\\n<tr>\\n<td>M4K\\n</td>\\n<td>East Toronto\\n</td>\\n<td>The Danforth West, Riverdale\\n</td></tr>\\n<tr>\\n<td>M5K\\n</td>\\n<td>Downtown Toronto\\n</td>\\n<td>Toronto Dominion Centre, Design Exchange\\n</td></tr>\\n<tr>\\n<td>M6K\\n</td>\\n<td>West Toronto\\n</td>\\n<td>Brockton, Parkdale Village, Exhibition Place\\n</td></tr>\\n<tr>\\n<td>M7K\\n</td>\\n<td>Not assigned\\n</td>\\n<td>\\n</td></tr>\\n<tr>\\n<td>M8K\\n</td>\\n<td>Not assigned\\n</td>\\n<td>\\n</td></tr>\\n<tr>\\n<td>M9K\\n</td>\\n<td>Not assigned\\n</td>\\n<td>\\n</td></tr>\\n<tr>\\n<td>M1L\\n</td>\\n<td>Scarborough\\n</td>\\n<td>Golden Mile, Clairlea, Oakridge\\n</td></tr>\\n<tr>\\n<td>M2L\\n</td>\\n<td>North York\\n</td>\\n<td>York Mills, Silver Hills\\n</td></tr>\\n<tr>\\n<td>M3L\\n</td>\\n<td>North York\\n</td>\\n<td>Downsview\\n</td></tr>\\n<tr>\\n<td>M4L\\n</td>\\n<td>East Toronto\\n</td>\\n<td>India Bazaar, The Beaches West\\n</td></tr>\\n<tr>\\n<td>M5L\\n</td>\\n<td>Downtown Toronto\\n</td>\\n<td>Commerce Court, Victoria Hotel\\n</td></tr>\\n<tr>\\n<td>M6L\\n</td>\\n<td>North York\\n</td>\\n<td>North Park, Maple Leaf Park, Upwood Park\\n</td></tr>\\n<tr>\\n<td>M7L\\n</td>\\n<td>Not assigned\\n</td>\\n<td>\\n</td></tr>\\n<tr>\\n<td>M8L\\n</td>\\n<td>Not assigned\\n</td>\\n<td>\\n</td></tr>\\n<tr>\\n<td>M9L\\n</td>\\n<td>North York\\n</td>\\n<td>Humber Summit\\n</td></tr>\\n<tr>\\n<td>M1M\\n</td>\\n<td>Scarborough\\n</td>\\n<td>Cliffside, Cliffcrest, Scarborough Village West\\n</td></tr>\\n<tr>\\n<td>M2M\\n</td>\\n<td>North York\\n</td>\\n<td>Willowdale, Newtonbrook\\n</td></tr>\\n<tr>\\n<td>M3M\\n</td>\\n<td>North York\\n</td>\\n<td>Downsview\\n</td></tr>\\n<tr>\\n<td>M4M\\n</td>\\n<td>East Toronto\\n</td>\\n<td>Studio District\\n</td></tr>\\n<tr>\\n<td>M5M\\n</td>\\n<td>North York\\n</td>\\n<td>Bedford Park, Lawrence Manor East\\n</td></tr>\\n<tr>\\n<td>M6M\\n</td>\\n<td>York\\n</td>\\n<td>Del Ray, Mount Dennis, Keelsdale and Silverthorn\\n</td></tr>\\n<tr>\\n<td>M7M\\n</td>\\n<td>Not assigned\\n</td>\\n<td>\\n</td></tr>\\n<tr>\\n<td>M8M\\n</td>\\n<td>Not assigned\\n</td>\\n<td>\\n</td></tr>\\n<tr>\\n<td>M9M\\n</td>\\n<td>North York\\n</td>\\n<td>Humberlea, Emery\\n</td></tr>\\n<tr>\\n<td>M1N\\n</td>\\n<td>Scarborough\\n</td>\\n<td>Birch Cliff, Cliffside West\\n</td></tr>\\n<tr>\\n<td>M2N\\n</td>\\n<td>North York\\n</td>\\n<td>Willowdale\\n</td></tr>\\n<tr>\\n<td>M3N\\n</td>\\n<td>North York\\n</td>\\n<td>Downsview\\n</td></tr>\\n<tr>\\n<td>M4N\\n</td>\\n<td>Central Toronto\\n</td>\\n<td>Lawrence Park\\n</td></tr>\\n<tr>\\n<td>M5N\\n</td>\\n<td>Central Toronto\\n</td>\\n<td>Roselawn\\n</td></tr>\\n<tr>\\n<td>M6N\\n</td>\\n<td>York\\n</td>\\n<td>Runnymede, The Junction North\\n</td></tr>\\n<tr>\\n<td>M7N\\n</td>\\n<td>Not assigned\\n</td>\\n<td>\\n</td></tr>\\n<tr>\\n<td>M8N\\n</td>\\n<td>Not assigned\\n</td>\\n<td>\\n</td></tr>\\n<tr>\\n<td>M9N\\n</td>\\n<td>York\\n</td>\\n<td>Weston\\n</td></tr>\\n<tr>\\n<td>M1P\\n</td>\\n<td>Scarborough\\n</td>\\n<td>Dorset Park, Wexford Heights, Scarborough Town Centre\\n</td></tr>\\n<tr>\\n<td>M2P\\n</td>\\n<td>North York\\n</td>\\n<td>York Mills West\\n</td></tr>\\n<tr>\\n<td>M3P\\n</td>\\n<td>Not assigned\\n</td>\\n<td>\\n</td></tr>\\n<tr>\\n<td>M4P\\n</td>\\n<td>Central Toronto\\n</td>\\n<td>Davisville North\\n</td></tr>\\n<tr>\\n<td>M5P\\n</td>\\n<td>Central Toronto\\n</td>\\n<td>Forest Hill North &amp; West\\n</td></tr>\\n<tr>\\n<td>M6P\\n</td>\\n<td>West Toronto\\n</td>\\n<td>High Park, The Junction South\\n</td></tr>\\n<tr>\\n<td>M7P\\n</td>\\n<td>Not assigned\\n</td>\\n<td>\\n</td></tr>\\n<tr>\\n<td>M8P\\n</td>\\n<td>Not assigned\\n</td>\\n<td>\\n</td></tr>\\n<tr>\\n<td>M9P\\n</td>\\n<td>Etobicoke\\n</td>\\n<td>Westmount\\n</td></tr>\\n<tr>\\n<td>M1R\\n</td>\\n<td>Scarborough\\n</td>\\n<td>Wexford, Maryvale\\n</td></tr>\\n<tr>\\n<td>M2R\\n</td>\\n<td>North York\\n</td>\\n<td>Willowdale\\n</td></tr>\\n<tr>\\n<td>M3R\\n</td>\\n<td>Not assigned\\n</td>\\n<td>\\n</td></tr>\\n<tr>\\n<td>M4R\\n</td>\\n<td>Central Toronto\\n</td>\\n<td>North Toronto West\\n</td></tr>\\n<tr>\\n<td>M5R\\n</td>\\n<td>Central Toronto\\n</td>\\n<td>The Annex, North Midtown, Yorkville\\n</td></tr>\\n<tr>\\n<td>M6R\\n</td>\\n<td>West Toronto\\n</td>\\n<td>Parkdale, Roncesvalles\\n</td></tr>\\n<tr>\\n<td>M7R\\n</td>\\n<td>Mississauga\\n</td>\\n<td>Canada Post Gateway Processing Centre\\n</td></tr>\\n<tr>\\n<td>M8R\\n</td>\\n<td>Not assigned\\n</td>\\n<td>\\n</td></tr>\\n<tr>\\n<td>M9R\\n</td>\\n<td>Etobicoke\\n</td>\\n<td>Kingsview Village, St. Phillips, Martin Grove Gardens, Richview Gardens\\n</td></tr>\\n<tr>\\n<td>M1S\\n</td>\\n<td>Scarborough\\n</td>\\n<td>Agincourt\\n</td></tr>\\n<tr>\\n<td>M2S\\n</td>\\n<td>Not assigned\\n</td>\\n<td>\\n</td></tr>\\n<tr>\\n<td>M3S\\n</td>\\n<td>Not assigned\\n</td>\\n<td>\\n</td></tr>\\n<tr>\\n<td>M4S\\n</td>\\n<td>Central Toronto\\n</td>\\n<td>Davisville\\n</td></tr>\\n<tr>\\n<td>M5S\\n</td>\\n<td>Downtown Toronto\\n</td>\\n<td>University of Toronto, Harbord\\n</td></tr>\\n<tr>\\n<td>M6S\\n</td>\\n<td>West Toronto\\n</td>\\n<td>Runnymede, Swansea\\n</td></tr>\\n<tr>\\n<td>M7S\\n</td>\\n<td>Not assigned\\n</td>\\n<td>\\n</td></tr>\\n<tr>\\n<td>M8S\\n</td>\\n<td>Not assigned\\n</td>\\n<td>\\n</td></tr>\\n<tr>\\n<td>M9S\\n</td>\\n<td>Not assigned\\n</td>\\n<td>\\n</td></tr>\\n<tr>\\n<td>M1T\\n</td>\\n<td>Scarborough\\n</td>\\n<td>Clarks Corners, Tam O\\'Shanter, Sullivan\\n</td></tr>\\n<tr>\\n<td>M2T\\n</td>\\n<td>Not assigned\\n</td>\\n<td>\\n</td></tr>\\n<tr>\\n<td>M3T\\n</td>\\n<td>Not assigned\\n</td>\\n<td>\\n</td></tr>\\n<tr>\\n<td>M4T\\n</td>\\n<td>Central Toronto\\n</td>\\n<td>Moore Park, Summerhill East\\n</td></tr>\\n<tr>\\n<td>M5T\\n</td>\\n<td>Downtown Toronto\\n</td>\\n<td>Kensington Market, Chinatown, Grange Park\\n</td></tr>\\n<tr>\\n<td>M6T\\n</td>\\n<td>Not assigned\\n</td>\\n<td>\\n</td></tr>\\n<tr>\\n<td>M7T\\n</td>\\n<td>Not assigned\\n</td>\\n<td>\\n</td></tr>\\n<tr>\\n<td>M8T\\n</td>\\n<td>Not assigned\\n</td>\\n<td>\\n</td></tr>\\n<tr>\\n<td>M9T\\n</td>\\n<td>Not assigned\\n</td>\\n<td>\\n</td></tr>\\n<tr>\\n<td>M1V\\n</td>\\n<td>Scarborough\\n</td>\\n<td>Milliken, Agincourt North, Steeles East, L\\'Amoreaux East\\n</td></tr>\\n<tr>\\n<td>M2V\\n</td>\\n<td>Not assigned\\n</td>\\n<td>\\n</td></tr>\\n<tr>\\n<td>M3V\\n</td>\\n<td>Not assigned\\n</td>\\n<td>\\n</td></tr>\\n<tr>\\n<td>M4V\\n</td>\\n<td>Central Toronto\\n</td>\\n<td>Summerhill West, Rathnelly, South Hill, Forest Hill SE, Deer Park\\n</td></tr>\\n<tr>\\n<td>M5V\\n</td>\\n<td>Downtown Toronto\\n</td>\\n<td>CN Tower, King and Spadina, Railway Lands, Harbourfront West, Bathurst Quay, South Niagara, Island airport\\n</td></tr>\\n<tr>\\n<td>M6V\\n</td>\\n<td>Not assigned\\n</td>\\n<td>\\n</td></tr>\\n<tr>\\n<td>M7V\\n</td>\\n<td>Not assigned\\n</td>\\n<td>\\n</td></tr>\\n<tr>\\n<td>M8V\\n</td>\\n<td>Etobicoke\\n</td>\\n<td>New Toronto, Mimico South, Humber Bay Shores\\n</td></tr>\\n<tr>\\n<td>M9V\\n</td>\\n<td>Etobicoke\\n</td>\\n<td>South Steeles, Silverstone, Humbergate, Jamestown, Mount Olive, Beaumond Heights, Thistletown, Albion Gardens\\n</td></tr>\\n<tr>\\n<td>M1W\\n</td>\\n<td>Scarborough\\n</td>\\n<td>Steeles West, L\\'Amoreaux West\\n</td></tr>\\n<tr>\\n<td>M2W\\n</td>\\n<td>Not assigned\\n</td>\\n<td>\\n</td></tr>\\n<tr>\\n<td>M3W\\n</td>\\n<td>Not assigned\\n</td>\\n<td>\\n</td></tr>\\n<tr>\\n<td>M4W\\n</td>\\n<td>Downtown Toronto\\n</td>\\n<td>Rosedale\\n</td></tr>\\n<tr>\\n<td>M5W\\n</td>\\n<td>Downtown Toronto\\n</td>\\n<td>Stn A PO Boxes\\n</td></tr>\\n<tr>\\n<td>M6W\\n</td>\\n<td>Not assigned\\n</td>\\n<td>\\n</td></tr>\\n<tr>\\n<td>M7W\\n</td>\\n<td>Not assigned\\n</td>\\n<td>\\n</td></tr>\\n<tr>\\n<td>M8W\\n</td>\\n<td>Etobicoke\\n</td>\\n<td>Alderwood, Long Branch\\n</td></tr>\\n<tr>\\n<td>M9W\\n</td>\\n<td>Etobicoke\\n</td>\\n<td>Northwest\\n</td></tr>\\n<tr>\\n<td>M1X\\n</td>\\n<td>Scarborough\\n</td>\\n<td>Upper Rouge\\n</td></tr>\\n<tr>\\n<td>M2X\\n</td>\\n<td>Not assigned\\n</td>\\n<td>\\n</td></tr>\\n<tr>\\n<td>M3X\\n</td>\\n<td>Not assigned\\n</td>\\n<td>\\n</td></tr>\\n<tr>\\n<td>M4X\\n</td>\\n<td>Downtown Toronto\\n</td>\\n<td>St. James Town, Cabbagetown\\n</td></tr>\\n<tr>\\n<td>M5X\\n</td>\\n<td>Downtown Toronto\\n</td>\\n<td>First Canadian Place, Underground city\\n</td></tr>\\n<tr>\\n<td>M6X\\n</td>\\n<td>Not assigned\\n</td>\\n<td>\\n</td></tr>\\n<tr>\\n<td>M7X\\n</td>\\n<td>Not assigned\\n</td>\\n<td>\\n</td></tr>\\n<tr>\\n<td>M8X\\n</td>\\n<td>Etobicoke\\n</td>\\n<td>The Kingsway, Montgomery Road, Old Mill North\\n</td></tr>\\n<tr>\\n<td>M9X\\n</td>\\n<td>Not assigned\\n</td>\\n<td>\\n</td></tr>\\n<tr>\\n<td>M1Y\\n</td>\\n<td>Not assigned\\n</td>\\n<td>\\n</td></tr>\\n<tr>\\n<td>M2Y\\n</td>\\n<td>Not assigned\\n</td>\\n<td>\\n</td></tr>\\n<tr>\\n<td>M3Y\\n</td>\\n<td>Not assigned\\n</td>\\n<td>\\n</td></tr>\\n<tr>\\n<td>M4Y\\n</td>\\n<td>Downtown Toronto\\n</td>\\n<td>Church and Wellesley\\n</td></tr>\\n<tr>\\n<td>M5Y\\n</td>\\n<td>Not assigned\\n</td>\\n<td>\\n</td></tr>\\n<tr>\\n<td>M6Y\\n</td>\\n<td>Not assigned\\n</td>\\n<td>\\n</td></tr>\\n<tr>\\n<td>M7Y\\n</td>\\n<td>East Toronto\\n</td>\\n<td>Business reply mail Processing Centre\\n</td></tr>\\n<tr>\\n<td>M8Y\\n</td>\\n<td>Etobicoke\\n</td>\\n<td>Old Mill South, King\\'s Mill Park, Sunnylea, Humber Bay, Mimico NE, The Queensway East, Royal York South East, Kingsway Park South East\\n</td></tr>\\n<tr>\\n<td>M9Y\\n</td>\\n<td>Not assigned\\n</td>\\n<td>\\n</td></tr>\\n<tr>\\n<td>M1Z\\n</td>\\n<td>Not assigned\\n</td>\\n<td>\\n</td></tr>\\n<tr>\\n<td>M2Z\\n</td>\\n<td>Not assigned\\n</td>\\n<td>\\n</td></tr>\\n<tr>\\n<td>M3Z\\n</td>\\n<td>Not assigned\\n</td>\\n<td>\\n</td></tr>\\n<tr>\\n<td>M4Z\\n</td>\\n<td>Not assigned\\n</td>\\n<td>\\n</td></tr>\\n<tr>\\n<td>M5Z\\n</td>\\n<td>Not assigned\\n</td>\\n<td>\\n</td></tr>\\n<tr>\\n<td>M6Z\\n</td>\\n<td>Not assigned\\n</td>\\n<td>\\n</td></tr>\\n<tr>\\n<td>M7Z\\n</td>\\n<td>Not assigned\\n</td>\\n<td>\\n</td></tr>\\n<tr>\\n<td>M8Z\\n</td>\\n<td>Etobicoke\\n</td>\\n<td>Mimico NW, The Queensway West, South of Bloor, Kingsway Park South West, Royal York South West\\n</td></tr>\\n<tr>\\n<td>M9Z\\n</td>\\n<td>Not assigned\\n</td>\\n<td>\\n</td></tr></tbody></table>\\n<h2><span id=\"Most_populated_FSAs.5B3.5D\"></span><span class=\"mw-headline\" id=\"Most_populated_FSAs[3]\">Most populated FSAs<sup id=\"cite_ref-statcan_3-0\" class=\"reference\"><a href=\"#cite_note-statcan-3\">&#91;3&#93;</a></sup></span><span class=\"mw-editsection\"><span class=\"mw-editsection-bracket\">[</span><a href=\"/w/index.php?title=List_of_postal_codes_of_Canada:_M&amp;action=edit&amp;section=2\" title=\"Edit section: Most populated FSAs[3]\">edit</a><span class=\"mw-editsection-bracket\">]</span></span></h2>\\n<ol><li>M1B, 65,129http://www.rfc-editor.org/info/rfc7617</li>\\n<li>M2N, 60,124http://www.rfc-editor.org/info/rfc7617</li>\\n<li>M1V, 55,250http://www.rfc-editor.org/info/rfc7617</li>\\n<li>M9V, 55,159http://www.rfc-editor.org/info/rfc7617</li>\\n<li>M2J, 54,391http://www.rfc-editor.org/info/rfc7617</li></ol>\\n<h2><span id=\"Least_populated_FSAs.5B3.5D\"></span><span class=\"mw-headline\" id=\"Least_populated_FSAs[3]\">Least populated FSAs<sup id=\"cite_ref-statcan_3-1\" class=\"reference\"><a href=\"#cite_note-statcan-3\">&#91;3&#93;</a></sup></span><span class=\"mw-editsection\"><span class=\"mw-editsection-bracket\">[</span><a href=\"/w/index.php?title=List_of_postal_codes_of_Canada:_M&amp;action=edit&amp;section=3\" title=\"Edit section: Least populated FSAs[3]\">edit</a><span class=\"mw-editsection-bracket\">]</span></span></h2>\\n<ol><li>M5K, 5</li>\\n<li>M5L, 5</li>\\n<li>M5W, 5</li>\\n<li>M5X, 5</li>\\n<li>M7A, 5</li></ol>\\n<h2><span class=\"mw-headline\" id=\"References\">References</span><span class=\"mw-editsection\"><span class=\"mw-editsection-bracket\">[</span><a href=\"/w/index.php?title=List_of_postal_codes_of_Canada:_M&amp;action=edit&amp;section=4\" title=\"Edit section: References\">edit</a><span class=\"mw-editsection-bracket\">]</span></span></h2>\\n<div class=\"mw-references-wrap\"><ol class=\"references\">\\n<li id=\"cite_note-1\"><span class=\"mw-cite-backlink\"><b><a href=\"#cite_ref-1\">^</a></b></span> <span class=\"reference-text\">\\n<cite id=\"CITEREFCanada_Post\" class=\"citation web\">Canada Post. <a rel=\"nofollow\" class=\"external text\" href=\"https://www.canadapost.ca/cpotools/apps/fpc/personal/findByCity?execution=e2s1\">\"Canada Post - Find a Postal Code\"</a><span class=\"reference-accessdate\">. Retrieved <span class=\"nowrap\">9 November</span> 2008</span>.</cite><span title=\"ctx_ver=Z39.88-2004&amp;rft_val_fmt=info%3Aofi%2Ffmt%3Akev%3Amtx%3Abook&amp;rft.genre=unknown&amp;rft.btitle=Canada+Post+-+Find+a+Postal+Code&amp;rft.au=Canada+Post&amp;rft_id=https%3A%2F%2Fwww.canadapost.ca%2Fcpotools%2Fapps%2Ffpc%2Fpersonal%2FfindByCity%3Fexecution%3De2s1&amp;rfr_id=info%3Asid%2Fen.wikipedia.org%3AList+of+postal+codes+of+Canada%3A+M\" class=\"Z3988\"></span><style data-mw-deduplicate=\"TemplateStyles:r951705291\">.mw-parser-output cite.citation{font-style:inherit}.mw-parser-output .citation q{quotes:\"\\\\\"\"\"\\\\\"\"\"\\'\"\"\\'\"}.mw-parser-output .id-lock-free a,.mw-parser-output .citation .cs1-lock-free a{background-image:url(\"//upload.wikimedia.org/wikipedia/commons/thumb/6/65/Lock-green.svg/9px-Lock-green.svg.png\");background-image:linear-gradient(transparent,transparent),url(\"//upload.wikimedia.org/wikipedia/commons/6/65/Lock-green.svg\");background-repeat:no-repeat;background-size:9px;background-position:right .1em center}.mw-parser-output .id-lock-limited a,.mw-parser-output .id-lock-registration a,.mw-parser-output .citation .cs1-lock-limited a,.mw-parser-output .citation .cs1-lock-registration a{background-image:url(\"//upload.wikimedia.org/wikipedia/commons/thumb/d/d6/Lock-gray-alt-2.svg/9px-Lock-gray-alt-2.svg.png\");background-image:linear-gradient(transparent,transparent),url(\"//upload.wikimedia.org/wikipedia/commons/d/d6/Lock-gray-alt-2.svg\");background-repeat:no-repeat;background-size:9px;background-position:right .1em center}.mw-parser-output .id-lock-subscription a,.mw-parser-output .citation .cs1-lock-subscription a{background-image:url(\"//upload.wikimedia.org/wikipedia/commons/thumb/a/aa/Lock-red-alt-2.svg/9px-Lock-red-alt-2.svg.png\");background-image:linear-gradient(transparent,transparent),url(\"//upload.wikimedia.org/wikipedia/commons/a/aa/Lock-red-alt-2.svg\");background-repeat:no-repeat;background-size:9px;background-position:right .1em center}.mw-parser-output .cs1-subscription,.mw-parser-output .cs1-registration{color:#555}.mw-parser-output .cs1-subscription span,.mw-parser-output .cs1-registration span{border-bottom:1px dotted;cursor:help}.mw-parser-output .cs1-ws-icon a{background-image:url(\"//upload.wikimedia.org/wikipedia/commons/thumb/4/4c/Wikisource-logo.svg/12px-Wikisource-logo.svg.png\");background-image:linear-gradient(transparent,transparent),url(\"//upload.wikimedia.org/wikipedia/commons/4/4c/Wikisource-logo.svg\");background-repeat:no-repeat;background-size:12px;background-position:right .1em center}.mw-parser-output code.cs1-code{color:inherit;background:inherit;border:inherit;padding:inherit}.mw-parser-output .cs1-hidden-error{display:none;font-size:100%}.mw-parser-output .cs1-visible-error{font-size:100%}.mw-parser-output .cs1-maint{display:none;color:#33aa33;margin-left:0.3em}.mw-parser-output .cs1-subscription,.mw-parser-output .cs1-registration,.mw-parser-output .cs1-format{font-size:95%}.mw-parser-output .cs1-kern-left,.mw-parser-output .cs1-kern-wl-left{padding-left:0.2em}.mw-parser-output .cs1-kern-right,.mw-parser-output .cs1-kern-wl-right{padding-right:0.2em}.mw-parser-output .citation .mw-selflink{font-weight:inherit}</style></span>\\n</li>\\n<li id=\"cite_note-2\"><span class=\"mw-cite-backlink\"><b><a href=\"#cite_ref-2\">^</a></b></span> <span class=\"reference-text\"><cite class=\"citation web\"><a rel=\"nofollow\" class=\"external text\" href=\"https://web.archive.org/web/20110519093024/http://www.canadapost.ca/cpo/mc/personal/tools/mobileapp/default.jsf\">\"Mobile Apps\"</a>. Canada Post. Archived from <a rel=\"nofollow\" class=\"external text\" href=\"http://www.canadapost.ca/cpo/mc/personal/tools/mobileapp/default.jsf\">the original</a> on 2011-05-19.</cite><span title=\"ctx_ver=Z39.88-2004&amp;rft_val_fmt=info%3Aofi%2Ffmt%3Akev%3Amtx%3Abook&amp;rft.genre=unknown&amp;rft.btitle=Mobile+Apps&amp;rft.pub=Canada+Post&amp;rft_id=http%3A%2F%2Fwww.canadapost.ca%2Fcpo%2Fmc%2Fpersonal%2Ftools%2Fmobileapp%2Fdefault.jsf&amp;rfr_id=info%3Asid%2Fen.wikipedia.org%3AList+of+postal+codes+of+Canada%3A+M\" class=\"Z3988\"></span><link rel=\"mw-deduplicated-inline-style\" href=\"mw-data:TemplateStyles:r951705291\"/></span>\\n</li>\\n<li id=\"cite_note-statcan-3\"><span class=\"mw-cite-backlink\">^ <a href=\"#cite_ref-statcan_3-0\"><sup><i><b>a</b></i></sup></a> <a href=\"#cite_ref-statcan_3-1\"><sup><i><b>b</b></i></sup></a></span> <span class=\"reference-text\"><cite class=\"citation web\"><a rel=\"nofollow\" class=\"external text\" href=\"http://www12.statcan.ca/english/census06/data/popdwell/Table.cfm?T=1201&amp;SR=1&amp;S=0&amp;O=A&amp;RPP=9999&amp;PR=0&amp;CMA=0\">\"2006 Census of Population\"</a>. 15 October 2008.</cite><span title=\"ctx_ver=Z39.88-2004&amp;rft_val_fmt=info%3Aofi%2Ffmt%3Akev%3Amtx%3Abook&amp;rft.genre=unknown&amp;rft.btitle=2006+Census+of+Population&amp;rft.date=2008-10-15&amp;rft_id=http%3A%2F%2Fwww12.statcan.ca%2Fenglish%2Fcensus06%2Fdata%2Fpopdwell%2FTable.cfm%3FT%3D1201%26SR%3D1%26S%3D0%26O%3DA%26RPP%3D9999%26PR%3D0%26CMA%3D0&amp;rfr_id=info%3Asid%2Fen.wikipedia.org%3AList+of+postal+codes+of+Canada%3A+M\" class=\"Z3988\"></span><link rel=\"mw-deduplicated-inline-style\" href=\"mw-data:TemplateStyles:r951705291\"/></span>\\n</li>\\n</ol></div>\\n<table class=\"navbox\">\\n<tbody><tr>\\n<td style=\"width:36px; text-align:center\"><a href=\"/wiki/File:Flag_of_Canada.svg\" class=\"image\" title=\"Flag of Canada\"><img alt=\"Flag of Canada\" src=\"//upload.wikimedia.org/wikipedia/en/thumb/c/cf/Flag_of_Canada.svg/36px-Flag_of_Canada.svg.png\" decoding=\"async\" width=\"36\" height=\"18\" srcset=\"//upload.wikimedia.org/wikipedia/en/thumb/c/cf/Flag_of_Canada.svg/54px-Flag_of_Canada.svg.png 1.5x, //upload.wikimedia.org/wikipedia/en/thumb/c/cf/Flag_of_Canada.svg/72px-Flag_of_Canada.svg.png 2x\" data-file-width=\"1200\" data-file-height=\"600\" /></a>\\n</td>\\n<th class=\"navbox-title\" style=\"font-size:110%\"><a href=\"/wiki/Postal_codes_in_Canada\" title=\"Postal codes in Canada\">Canadian postal codes</a>\\n</th>\\n<td style=\"width:36px; text-align:center\"><a href=\"/wiki/File:Canadian_postal_district_map_(without_legends).svg\" class=\"image\"><img alt=\"Canadian postal district map (without legends).svg\" src=\"//upload.wikimedia.org/wikipedia/commons/thumb/e/eb/Canadian_postal_district_map_%28without_legends%29.svg/21px-Canadian_postal_district_map_%28without_legends%29.svg.png\" decoding=\"async\" width=\"21\" height=\"18\" srcset=\"//upload.wikimedia.org/wikipedia/commons/thumb/e/eb/Canadian_postal_district_map_%28without_legends%29.svg/32px-Canadian_postal_district_map_%28without_legends%29.svg.png 1.5x, //upload.wikimedia.org/wikipedia/commons/thumb/e/eb/Canadian_postal_district_map_%28without_legends%29.svg/43px-Canadian_postal_district_map_%28without_legends%29.svg.png 2x\" data-file-width=\"1000\" data-file-height=\"846\" /></a>\\n</td></tr>\\n<tr>\\n<td style=\"text-align:center; font-size: 100%;\" colspan=\"3\">\\n<table width=\"100%\" style=\"background-color: #F8F8F8;\" cellspacing=\"0\">\\n<tbody><tr>\\n<td style=\"text-align:center; border:1px solid #aaa;\"><a href=\"/wiki/Newfoundland_and_Labrador\" title=\"Newfoundland and Labrador\">NL</a>\\n</td>\\n<td style=\"text-align:center; border:1px solid #aaa;\"><a href=\"/wiki/Nova_Scotia\" title=\"Nova Scotia\">NS</a>\\n</td>\\n<td style=\"text-align:center; border:1px solid #aaa;\"><a href=\"/wiki/Prince_Edward_Island\" title=\"Prince Edward Island\">PE</a>\\n</td>\\n<td style=\"text-align:center; border:1px solid #aaa;\"><a href=\"/wiki/New_Brunswick\" title=\"New Brunswick\">NB</a>\\n</td>\\n<td style=\"text-align:center; border:1px solid #aaa;\" colspan=\"3\"><a href=\"/wiki/Quebec\" title=\"Quebec\">QC</a>\\n</td>\\n<td style=\"text-align:center; border:1px solid #aaa;\" colspan=\"5\"><a href=\"/wiki/Ontario\" title=\"Ontario\">ON</a>\\n</td>\\n<td style=\"text-align:center; border:1px solid #aaa;\"><a href=\"/wiki/Manitoba\" title=\"Manitoba\">MB</a>\\n</td>\\n<td style=\"text-align:center; border:1px solid #aaa;\"><a href=\"/wiki/Saskatchewan\" title=\"Saskatchewan\">SK</a>\\n</td>\\n<td style=\"text-align:center; border:1px solid #aaa;\"><a href=\"/wiki/Alberta\" title=\"Alberta\">AB</a>\\n</td>\\n<td style=\"text-align:center; border:1px solid #aaa;\"><a href=\"/wiki/British_Columbia\" title=\"British Columbia\">BC</a>\\n</td>\\n<td style=\"text-align:center; border:1px solid #aaa;\"><a href=\"/wiki/Nunavut\" title=\"Nunavut\">NU</a>/<a href=\"/wiki/Northwest_Territories\" title=\"Northwest Territories\">NT</a>\\n</td>\\n<td style=\"text-align:center; border:1px solid #aaa;\"><a href=\"/wiki/Yukon\" title=\"Yukon\">YT</a>\\n</td></tr>\\n<tr>\\n<td style=\"border: 1px solid #FF0000; background-color: #FFE0E0; font-size: 135%;\" align=\"center\" width=\"5%\"><a href=\"/wiki/List_of_postal_codes_of_Canada:_A\" title=\"List of postal codes of Canada: A\">A</a>\\n</td>\\n<td style=\"border: 1px solid #FF4000; background-color: #FFE8E0; font-size: 135%;\" align=\"center\" width=\"5%\"><a href=\"/wiki/List_of_postal_codes_of_Canada:_B\" title=\"List of postal codes of Canada: B\">B</a>\\n</td>\\n<td style=\"border: 1px solid #FF8000; background-color: #FFF0E0; font-size: 135%;\" align=\"center\" width=\"5%\"><a href=\"/wiki/List_of_postal_codes_of_Canada:_C\" title=\"List of postal codes of Canada: C\">C</a>\\n</td>\\n<td style=\"border: 1px solid #FFC000; background-color: #FFF8E0; font-size: 135%;\" align=\"center\" width=\"5%\"><a href=\"/wiki/List_of_postal_codes_of_Canada:_E\" title=\"List of postal codes of Canada: E\">E</a>\\n</td>\\n<td style=\"border: 1px solid #FFFF00; background-color: #FFFFE0; font-size: 135%;\" align=\"center\" width=\"5%\"><a href=\"/wiki/List_of_postal_codes_of_Canada:_G\" title=\"List of postal codes of Canada: G\">G</a>\\n</td>\\n<td style=\"border: 1px solid #C0FF00; background-color: #F8FFE0; font-size: 135%;\" align=\"center\" width=\"5%\"><a href=\"/wiki/List_of_postal_codes_of_Canada:_H\" title=\"List of postal codes of Canada: H\">H</a>\\n</td>\\n<td style=\"border: 1px solid #80FF00; background-color: #F0FFE0; font-size: 135%;\" align=\"center\" width=\"5%\"><a href=\"/wiki/List_of_postal_codes_of_Canada:_J\" title=\"List of postal codes of Canada: J\">J</a>\\n</td>\\n<td style=\"border: 1px solid #00FF00; background-color: #E0FFE0; font-size: 135%;\" align=\"center\" width=\"5%\"><a href=\"/wiki/List_of_postal_codes_of_Canada:_K\" title=\"List of postal codes of Canada: K\">K</a>\\n</td>\\n<td style=\"border: 1px solid #00FF80; background-color: #E0FFF0; font-size: 135%;\" align=\"center\" width=\"5%\"><a href=\"/wiki/List_of_postal_codes_of_Canada:_L\" title=\"List of postal codes of Canada: L\">L</a>\\n</td>\\n<td style=\"border: 1px solid #E0FFF8; background-color: #00FFC0; font-size: 135%; color: black;\" align=\"center\" width=\"5%\"><a class=\"mw-selflink selflink\">M</a>\\n</td>\\n<td style=\"border: 1px solid #00FFE0; background-color: #E0FFFC; font-size: 135%;\" align=\"center\" width=\"5%\"><a href=\"/wiki/List_of_postal_codes_of_Canada:_N\" title=\"List of postal codes of Canada: N\">N</a>\\n</td>\\n<td style=\"border: 1px solid #00FFFF; background-color: #E0FFFF; font-size: 135%;\" align=\"center\" width=\"5%\"><a href=\"/wiki/List_of_postal_codes_of_Canada:_P\" title=\"List of postal codes of Canada: P\">P</a>\\n</td>\\n<td style=\"border: 1px solid #00C0FF; background-color: #E0F8FF; font-size: 135%;\" align=\"center\" width=\"5%\"><a href=\"/wiki/List_of_postal_codes_of_Canada:_R\" title=\"List of postal codes of Canada: R\">R</a>\\n</td>\\n<td style=\"border: 1px solid #0080FF; background-color: #E0F0FF; font-size: 135%;\" align=\"center\" width=\"5%\"><a href=\"/wiki/List_of_postal_codes_of_Canada:_S\" title=\"List of postal codes of Canada: S\">S</a>\\n</td>\\n<td style=\"border: 1px solid #0040FF; background-color: #E0E8FF; font-size: 135%;\" align=\"center\" width=\"5%\"><a href=\"/wiki/List_of_postal_codes_of_Canada:_T\" title=\"List of postal codes of Canada: T\">T</a>\\n</td>\\n<td style=\"border: 1px solid #0000FF; background-color: #E0E0FF; font-size: 135%;\" align=\"center\" width=\"5%\"><a href=\"/wiki/List_of_postal_codes_of_Canada:_V\" title=\"List of postal codes of Canada: V\">V</a>\\n</td>\\n<td style=\"border: 1px solid #A000FF; background-color: #E8E0FF; font-size: 135%;\" align=\"center\" width=\"5%\"><a href=\"/wiki/List_of_postal_codes_of_Canada:_X\" title=\"List of postal codes of Canada: X\">X</a>\\n</td>\\n<td style=\"border: 1px solid #FF00FF; background-color: #FFE0FF; font-size: 135%;\" align=\"center\" width=\"5%\"><a href=\"/wiki/List_of_postal_codes_of_Canada:_Y\" title=\"List of postal codes of Canada: Y\">Y</a>\\n</td></tr></tbody></table>\\n</td></tr></tbody></table>\\n<!-- \\nNewPP limit report\\nParsed by mw1350\\nCached time: 20200507174729\\nCache expiry: 2592000\\nDynamic content: false\\nComplications: [vary\\xe2\\x80\\x90revision\\xe2\\x80\\x90sha1]\\nCPU time usage: 0.172 seconds\\nReal time usage: 0.226 seconds\\nPreprocessor visited node count: 251/1000000\\nPost\\xe2\\x80\\x90expand include size: 10509/2097152 bytes\\nTemplate argument size: 195/2097152 bytes\\nHighest expansion depth: 8/40\\nExpensive parser function count: 0/500\\nUnstrip recursion depth: 1/20\\nUnstrip post\\xe2\\x80\\x90expand size: 11794/5000000 bytes\\nNumber of Wikibase entities loaded: 0/400\\nLua time usage: 0.073/10.000 seconds\\nLua memory usage: 2.33 MB/50 MB\\n-->\\n<!--\\nTransclusion expansion time report (%,ms,calls,template)\\n100.00%  163.635      1 -total\\n 52.27%   85.536      3 Template:Cite_web\\n 39.38%   64.441      1 Template:Short_description\\n 29.45%   48.184      1 Template:Pagetype\\n  3.40%    5.569      1 Template:Canadian_postal_codes\\n  1.95%    3.193      1 Template:Main_other\\n-->\\n\\n<!-- Saved in parser cache with key enwiki:pcache:idhash:539066-0!canonical and timestamp 20200507174729 and revision id 955414546\\n -->\\n</div><noscript><img src=\"//en.wikipedia.org/wiki/Special:CentralAutoLogin/start?type=1x1\" alt=\"\" title=\"\" width=\"1\" height=\"1\" style=\"border: none; position: absolute;\" /></noscript></div>\\n\\t\\t<div class=\"printfooter\">Retrieved from \"<a dir=\"ltr\" href=\"https://en.wikipedia.org/w/index.php?title=List_of_postal_codes_of_Canada:_M&amp;oldid=955414546\">https://en.wikipedia.org/w/index.php?title=List_of_postal_codes_of_Canada:_M&amp;oldid=955414546</a>\"</div>\\n\\t\\t<div id=\"catlinks\" class=\"catlinks\" data-mw=\"interface\"><div id=\"mw-normal-catlinks\" class=\"mw-normal-catlinks\"><a href=\"/wiki/Help:Category\" title=\"Help:Category\">Categories</a>: <ul><li><a href=\"/wiki/Category:Communications_in_Ontario\" title=\"Category:Communications in Ontario\">Communications in Ontario</a></li><li><a href=\"/wiki/Category:Postal_codes_in_Canada\" title=\"Category:Postal codes in Canada\">Postal codes in Canada</a></li><li><a href=\"/wiki/Category:Toronto\" title=\"Category:Toronto\">Toronto</a></li><li><a href=\"/wiki/Category:Ontario-related_lists\" title=\"Category:Ontario-related lists\">Ontario-related lists</a></li></ul></div><div id=\"mw-hidden-catlinks\" class=\"mw-hidden-catlinks mw-hidden-cats-hidden\">Hidden categories: <ul><li><a href=\"/wiki/Category:Articles_with_short_description\" title=\"Category:Articles with short description\">Articles with short description</a></li></ul></div></div>\\n\\t\\t<div class=\"visualClear\"></div>\\n\\t\\t\\n\\t</div>\\n</div>\\n<div id=\\'mw-data-after-content\\'>\\n\\t<div class=\"read-more-container\"></div>\\n</div>\\n\\n<div id=\"mw-navigation\">\\n\\t<h2>Navigation menu</h2>\\n\\t<div id=\"mw-head\">\\n\\t\\t\\n<div id=\"p-personal\" role=\"navigation\" class=\"\" aria-labelledby=\"p-personal-label\">\\n\\t<h3 id=\"p-personal-label\">Personal tools</h3>\\n\\t<ul >\\n\\t\\t<li id=\"pt-anonuserpage\">Not logged in</li><li id=\"pt-anontalk\"><a href=\"/wiki/Special:MyTalk\" title=\"Discussion about edits from this IP address [n]\" accesskey=\"n\">Talk</a></li><li id=\"pt-anoncontribs\"><a href=\"/wiki/Special:MyContributions\" title=\"A list of edits made from this IP address [y]\" accesskey=\"y\">Contributions</a></li><li id=\"pt-createaccount\"><a href=\"/w/index.php?title=Special:CreateAccount&amp;returnto=List+of+postal+codes+of+Canada%3A+M\" title=\"You are encouraged to create an account and log in; however, it is not mandatory\">Create account</a></li><li id=\"pt-login\"><a href=\"/w/index.php?title=Special:UserLogin&amp;returnto=List+of+postal+codes+of+Canada%3A+M\" title=\"You&#039;re encouraged to log in; however, it&#039;s not mandatory. [o]\" accesskey=\"o\">Log in</a></li>\\n\\t</ul>\\n</div>\\n\\n\\t\\t<div id=\"left-navigation\">\\n\\t\\t\\t<div id=\"p-namespaces\" role=\"navigation\" class=\"vectorTabs\" aria-labelledby=\"p-namespaces-label\">\\n\\t<h3 id=\"p-namespaces-label\">Namespaces</h3>\\n\\t<ul >\\n\\t\\t<li id=\"ca-nstab-main\" class=\"selected\"><a href=\"/wiki/List_of_postal_codes_of_Canada:_M\" title=\"View the content page [c]\" accesskey=\"c\">Article</a></li><li id=\"ca-talk\"><a href=\"/wiki/Talk:List_of_postal_codes_of_Canada:_M\" rel=\"discussion\" title=\"Discuss improvements to the content page [t]\" accesskey=\"t\">Talk</a></li>\\n\\t</ul>\\n</div>\\n\\n\\t\\t\\t<div id=\"p-variants\" role=\"navigation\" class=\"emptyPortlet vectorMenu\" aria-labelledby=\"p-variants-label\">\\n\\t<input type=\"checkbox\" class=\"vectorMenuCheckbox\" aria-labelledby=\"p-variants-label\" />\\n\\t<h3 id=\"p-variants-label\">\\n\\t\\t<span>Variants</span>\\n\\t</h3>\\n\\t<ul class=\"menu\" >\\n\\t\\t\\n\\t</ul>\\n</div>\\n\\n\\t\\t</div>\\n\\t\\t<div id=\"right-navigation\">\\n\\t\\t\\t<div id=\"p-views\" role=\"navigation\" class=\"vectorTabs\" aria-labelledby=\"p-views-label\">\\n\\t<h3 id=\"p-views-label\">Views</h3>\\n\\t<ul >\\n\\t\\t<li id=\"ca-view\" class=\"collapsible selected\"><a href=\"/wiki/List_of_postal_codes_of_Canada:_M\">Read</a></li><li id=\"ca-edit\" class=\"collapsible\"><a href=\"/w/index.php?title=List_of_postal_codes_of_Canada:_M&amp;action=edit\" title=\"Edit this page [e]\" accesskey=\"e\">Edit</a></li><li id=\"ca-history\" class=\"collapsible\"><a href=\"/w/index.php?title=List_of_postal_codes_of_Canada:_M&amp;action=history\" title=\"Past revisions of this page [h]\" accesskey=\"h\">View history</a></li>\\n\\t</ul>\\n</div>\\n\\n\\t\\t\\t<div id=\"p-cactions\" role=\"navigation\" class=\"emptyPortlet vectorMenu\" aria-labelledby=\"p-cactions-label\">\\n\\t<input type=\"checkbox\" class=\"vectorMenuCheckbox\" aria-labelledby=\"p-cactions-label\" />\\n\\t<h3 id=\"p-cactions-label\">\\n\\t\\t<span>More</span>\\n\\t</h3>\\n\\t<ul class=\"menu\" >\\n\\t\\t\\n\\t</ul>\\n</div>\\n\\n\\t\\t\\t<div id=\"p-search\" role=\"search\">\\n\\t<h3 >\\n\\t\\t<label for=\"searchInput\">Search</label>\\n\\t</h3>\\n\\t<form action=\"/w/index.php\" id=\"searchform\">\\n\\t\\t<div id=\"simpleSearch\">\\n\\t\\t\\t<input type=\"search\" name=\"search\" placeholder=\"Search Wikipedia\" title=\"Search Wikipedia [f]\" accesskey=\"f\" id=\"searchInput\"/>\\n\\t\\t\\t<input type=\"hidden\" value=\"Special:Search\" name=\"title\"/>\\n\\t\\t\\t<input type=\"submit\" name=\"fulltext\" value=\"Search\" title=\"Search Wikipedia for this text\" id=\"mw-searchButton\" class=\"searchButton mw-fallbackSearchButton\"/>\\n\\t\\t\\t<input type=\"submit\" name=\"go\" value=\"Go\" title=\"Go to a page with this exact name if it exists\" id=\"searchButton\" class=\"searchButton\"/>\\n\\t\\t</div>\\n\\t</form>\\n</div>\\n\\n\\t\\t</div>\\n\\t</div>\\n\\t\\n<div id=\"mw-panel\">\\n\\t<div id=\"p-logo\" role=\"banner\">\\n\\t\\t<a  title=\"Visit the main page\" class=\"mw-wiki-logo\" href=\"/wiki/Main_Page\"></a>\\n\\t</div>\\n\\t<div class=\"portal portal-first\" role=\"navigation\" id=\"p-navigation\"  aria-labelledby=\"p-navigation-label\">\\n\\t<h3  id=\"p-navigation-label\">\\n\\t\\tNavigation\\n\\t</h3>\\n\\t<div class=\"body\">\\n\\t\\t<ul><li id=\"n-mainpage-description\"><a href=\"/wiki/Main_Page\" title=\"Visit the main page [z]\" accesskey=\"z\">Main page</a></li><li id=\"n-contents\"><a href=\"/wiki/Wikipedia:Contents\" title=\"Guides to browsing Wikipedia\">Contents</a></li><li id=\"n-featuredcontent\"><a href=\"/wiki/Wikipedia:Featured_content\" title=\"Featured content \\xe2\\x80\\x93 the best of Wikipedia\">Featured content</a></li><li id=\"n-currentevents\"><a href=\"/wiki/Portal:Current_events\" title=\"Find background information on current events\">Current events</a></li><li id=\"n-randompage\"><a href=\"/wiki/Special:Random\" title=\"Load a random article [x]\" accesskey=\"x\">Random article</a></li><li id=\"n-sitesupport\"><a href=\"https://donate.wikimedia.org/wiki/Special:FundraiserRedirector?utm_source=donate&amp;utm_medium=sidebar&amp;utm_campaign=C13_en.wikipedia.org&amp;uselang=en\" title=\"Support us\">Donate to Wikipedia</a></li><li id=\"n-shoplink\"><a href=\"//shop.wikimedia.org\" title=\"Visit the Wikipedia store\">Wikipedia store</a></li></ul>\\n\\t\\t\\n\\t</div>\\n</div>\\n\\n\\n\\t<div class=\"portal\" role=\"navigation\" id=\"p-interaction\"  aria-labelledby=\"p-interaction-label\">\\n\\t<h3  id=\"p-interaction-label\">\\n\\t\\tInteraction\\n\\t</h3>\\n\\t<div class=\"body\">\\n\\t\\t<ul><li id=\"n-help\"><a href=\"/wiki/Help:Contents\" title=\"Guidance on how to use and edit Wikipedia\">Help</a></li><li id=\"n-aboutsite\"><a href=\"/wiki/Wikipedia:About\" title=\"Find out about Wikipedia\">About Wikipedia</a></li><li id=\"n-portal\"><a href=\"/wiki/Wikipedia:Community_portal\" title=\"About the project, what you can do, where to find things\">Community portal</a></li><li id=\"n-recentchanges\"><a href=\"/wiki/Special:RecentChanges\" title=\"A list of recent changes in the wiki [r]\" accesskey=\"r\">Recent changes</a></li><li id=\"n-contactpage\"><a href=\"//en.wikipedia.org/wiki/Wikipedia:Contact_us\" title=\"How to contact Wikipedia\">Contact page</a></li></ul>\\n\\t\\t\\n\\t</div>\\n</div>\\n\\n<div class=\"portal\" role=\"navigation\" id=\"p-tb\"  aria-labelledby=\"p-tb-label\">\\n\\t<h3  id=\"p-tb-label\">\\n\\t\\tTools\\n\\t</h3>\\n\\t<div class=\"body\">\\n\\t\\t<ul><li id=\"t-whatlinkshere\"><a href=\"/wiki/Special:WhatLinksHere/List_of_postal_codes_of_Canada:_M\" title=\"List of all English Wikipedia pages containing links to this page [j]\" accesskey=\"j\">What links here</a></li><li id=\"t-recentchangeslinked\"><a href=\"/wiki/Special:RecentChangesLinked/List_of_postal_codes_of_Canada:_M\" rel=\"nofollow\" title=\"Recent changes in pages linked from this page [k]\" accesskey=\"k\">Related changes</a></li><li id=\"t-upload\"><a href=\"/wiki/Wikipedia:File_Upload_Wizard\" title=\"Upload files [u]\" accesskey=\"u\">Upload file</a></li><li id=\"t-specialpages\"><a href=\"/wiki/Special:SpecialPages\" title=\"A list of all special pages [q]\" accesskey=\"q\">Special pages</a></li><li id=\"t-permalink\"><a href=\"/w/index.php?title=List_of_postal_codes_of_Canada:_M&amp;oldid=955414546\" title=\"Permanent link to this revision of the page\">Permanent link</a></li><li id=\"t-info\"><a href=\"/w/index.php?title=List_of_postal_codes_of_Canada:_M&amp;action=info\" title=\"More information about this page\">Page information</a></li><li id=\"t-wikibase\"><a href=\"https://www.wikidata.org/wiki/Special:EntityPage/Q3248240\" title=\"Link to connected data repository item [g]\" accesskey=\"g\">Wikidata item</a></li><li id=\"t-cite\"><a href=\"/w/index.php?title=Special:CiteThisPage&amp;page=List_of_postal_codes_of_Canada%3A_M&amp;id=955414546&amp;wpFormIdentifier=titleform\" title=\"Information on how to cite this page\">Cite this page</a></li></ul>\\n\\t\\t\\n\\t</div>\\n</div>\\n\\n<div class=\"portal\" role=\"navigation\" id=\"p-coll-print_export\"  aria-labelledby=\"p-coll-print_export-label\">\\n\\t<h3  id=\"p-coll-print_export-label\">\\n\\t\\tPrint/export\\n\\t</h3>\\n\\t<div class=\"body\">\\n\\t\\t<ul><li id=\"coll-create_a_book\"><a href=\"/w/index.php?title=Special:Book&amp;bookcmd=book_creator&amp;referer=List+of+postal+codes+of+Canada%3A+M\">Create a book</a></li><li id=\"coll-download-as-rl\"><a href=\"/w/index.php?title=Special:ElectronPdf&amp;page=List+of+postal+codes+of+Canada%3A+M&amp;action=show-download-screen\">Download as PDF</a></li><li id=\"t-print\"><a href=\"/w/index.php?title=List_of_postal_codes_of_Canada:_M&amp;printable=yes\" title=\"Printable version of this page [p]\" accesskey=\"p\">Printable version</a></li></ul>\\n\\t\\t\\n\\t</div>\\n</div>\\n\\n<div class=\"portal\" role=\"navigation\" id=\"p-lang\"  aria-labelledby=\"p-lang-label\">\\n\\t<h3  id=\"p-lang-label\">\\n\\t\\tLanguages\\n\\t</h3>\\n\\t<div class=\"body\">\\n\\t\\t<ul><li class=\"interlanguage-link interwiki-fr\"><a href=\"https://fr.wikipedia.org/wiki/Liste_des_codes_postaux_canadiens_d%C3%A9butant_par_M\" title=\"Liste des codes postaux canadiens d\\xc3\\xa9butant par M \\xe2\\x80\\x93 French\" lang=\"fr\" hreflang=\"fr\" class=\"interlanguage-link-target\">Fran\\xc3\\xa7ais</a></li></ul>\\n\\t\\t<div class=\"after-portlet after-portlet-lang\"><span class=\"wb-langlinks-edit wb-langlinks-link\"><a href=\"https://www.wikidata.org/wiki/Special:EntityPage/Q3248240#sitelinks-wikipedia\" title=\"Edit interlanguage links\" class=\"wbc-editpage\">Edit links</a></span></div>\\n\\t</div>\\n</div>\\n\\n\\n</div>\\n\\n</div>\\n\\n<div id=\"footer\" class=\"mw-footer\" role=\"contentinfo\" >\\n\\t<ul id=\"footer-info\" class=\"\">\\n\\t\\t<li id=\"footer-info-lastmod\"> This page was last edited on 7 May 2020, at 17:47<span class=\"anonymous-show\">&#160;(UTC)</span>.</li>\\n\\t\\t<li id=\"footer-info-copyright\">Text is available under the <a rel=\"license\" href=\"//en.wikipedia.org/wiki/Wikipedia:Text_of_Creative_Commons_Attribution-ShareAlike_3.0_Unported_License\">Creative Commons Attribution-ShareAlike License</a><a rel=\"license\" href=\"//creativecommons.org/licenses/by-sa/3.0/\" style=\"display:none;\"></a>;\\nadditional terms may apply.  By using this site, you agree to the <a href=\"//foundation.wikimedia.org/wiki/Terms_of_Use\">Terms of Use</a> and <a href=\"//foundation.wikimedia.org/wiki/Privacy_policy\">Privacy Policy</a>. Wikipedia\\xc2\\xae is a registered trademark of the <a href=\"//www.wikimediafoundation.org/\">Wikimedia Foundation, Inc.</a>, a non-profit organization.</li>\\n\\t</ul>\\n\\t<ul id=\"footer-places\" class=\"\">\\n\\t\\t<li id=\"footer-places-privacy\"><a href=\"https://foundation.wikimedia.org/wiki/Privacy_policy\" class=\"extiw\" title=\"wmf:Privacy policy\">Privacy policy</a></li>\\n\\t\\t<li id=\"footer-places-about\"><a href=\"/wiki/Wikipedia:About\" title=\"Wikipedia:About\">About Wikipedia</a></li>\\n\\t\\t<li id=\"footer-places-disclaimer\"><a href=\"/wiki/Wikipedia:General_disclaimer\" title=\"Wikipedia:General disclaimer\">Disclaimers</a></li>\\n\\t\\t<li id=\"footer-places-contact\"><a href=\"//en.wikipedia.org/wiki/Wikipedia:Contact_us\">Contact Wikipedia</a></li>\\n\\t\\t<li id=\"footer-places-developers\"><a href=\"https://www.mediawiki.org/wiki/Special:MyLanguage/How_to_contribute\">Developers</a></li>\\n\\t\\t<li id=\"footer-places-statslink\"><a href=\"https://stats.wikimedia.org/#/en.wikipedia.org\">Statistics</a></li>\\n\\t\\t<li id=\"footer-places-cookiestatement\"><a href=\"https://foundation.wikimedia.org/wiki/Cookie_statement\">Cookie statement</a></li>\\n\\t\\t<li id=\"footer-places-mobileview\"><a href=\"//en.m.wikipedia.org/w/index.php?title=List_of_postal_codes_of_Canada:_M&amp;mobileaction=toggle_view_mobile\" class=\"noprint stopMobileRedirectToggle\">Mobile view</a></li>\\n\\t</ul>\\n\\t<ul id=\"footer-icons\" class=\"noprint\">\\n\\t\\t<li id=\"footer-copyrightico\"><a href=\"https://wikimediafoundation.org/\"><img src=\"/static/images/wikimedia-button.png\" srcset=\"/static/images/wikimedia-button-1.5x.png 1.5x, /static/images/wikimedia-button-2x.png 2x\" width=\"88\" height=\"31\" alt=\"Wikimedia Foundation\"/></a></li>\\n\\t\\t<li id=\"footer-poweredbyico\"><a href=\"https://www.mediawiki.org/\"><img src=\"/static/images/poweredby_mediawiki_88x31.png\" alt=\"Powered by MediaWiki\" srcset=\"/static/images/poweredby_mediawiki_132x47.png 1.5x, /static/images/poweredby_mediawiki_176x62.png 2x\" width=\"88\" height=\"31\"/></a></li>\\n\\t</ul>\\n\\t<div style=\"clear: both;\"></div>\\n</div>\\n\\n\\n<script>(RLQ=window.RLQ||[]).push(function(){mw.config.set({\"wgPageParseReport\":{\"limitreport\":{\"cputime\":\"0.172\",\"walltime\":\"0.226\",\"ppvisitednodes\":{\"value\":251,\"limit\":1000000},\"postexpandincludesize\":{\"value\":10509,\"limit\":2097152},\"templateargumentsize\":{\"value\":195,\"limit\":2097152},\"expansiondepth\":{\"value\":8,\"limit\":40},\"expensivefunctioncount\":{\"value\":0,\"limit\":500},\"unstrip-depth\":{\"value\":1,\"limit\":20},\"unstrip-size\":{\"value\":11794,\"limit\":5000000},\"entityaccesscount\":{\"value\":0,\"limit\":400},\"timingprofile\":[\"100.00%  163.635      1 -total\",\" 52.27%   85.536      3 Template:Cite_web\",\" 39.38%   64.441      1 Template:Short_description\",\" 29.45%   48.184      1 Template:Pagetype\",\"  3.40%    5.569      1 Template:Canadian_postal_codes\",\"  1.95%    3.193      1 Template:Main_other\"]},\"scribunto\":{\"limitreport-timeusage\":{\"value\":\"0.073\",\"limit\":\"10.000\"},\"limitreport-memusage\":{\"value\":2441747,\"limit\":52428800}},\"cachereport\":{\"origin\":\"mw1350\",\"timestamp\":\"20200507174729\",\"ttl\":2592000,\"transientcontent\":false}}});});</script>\\n<script type=\"application/ld+json\">{\"@context\":\"https:\\\\/\\\\/schema.org\",\"@type\":\"Article\",\"name\":\"List of postal codes of Canada: M\",\"url\":\"https:\\\\/\\\\/en.wikipedia.org\\\\/wiki\\\\/List_of_postal_codes_of_Canada:_M\",\"sameAs\":\"http:\\\\/\\\\/www.wikidata.org\\\\/entity\\\\/Q3248240\",\"mainEntity\":\"http:\\\\/\\\\/www.wikidata.org\\\\/entity\\\\/Q3248240\",\"author\":{\"@type\":\"Organization\",\"name\":\"Contributors to Wikimedia projects\"},\"publisher\":{\"@type\":\"Organization\",\"name\":\"Wikimedia Foundation, Inc.\",\"logo\":{\"@type\":\"ImageObject\",\"url\":\"https:\\\\/\\\\/www.wikimedia.org\\\\/static\\\\/images\\\\/wmf-hor-googpub.png\"}},\"datePublished\":\"2004-03-20T10:02:13Z\",\"dateModified\":\"2020-05-07T17:47:29Z\",\"headline\":\"Wikimedia list article\"}</script>\\n<script>(RLQ=window.RLQ||[]).push(function(){mw.config.set({\"wgBackendResponseTime\":95,\"wgHostname\":\"mw1403\"});});</script></body></html>\\n'\n"
          ],
          "name": "stdout"
        }
      ]
    },
    {
      "cell_type": "markdown",
      "metadata": {
        "id": "HudOUJGg127U",
        "colab_type": "text"
      },
      "source": [
        "# Calling beautifulsoup to convert the content into a managable form"
      ]
    },
    {
      "cell_type": "code",
      "metadata": {
        "colab_type": "code",
        "id": "D9WbITdapTT_",
        "colab": {}
      },
      "source": [
        "soup = bs(x,\"lxml\")"
      ],
      "execution_count": 0,
      "outputs": []
    },
    {
      "cell_type": "markdown",
      "metadata": {
        "id": "yVo-o2Ii127X",
        "colab_type": "text"
      },
      "source": [
        "# Data Preprocessing to extract the features we require"
      ]
    },
    {
      "cell_type": "code",
      "metadata": {
        "colab_type": "code",
        "id": "8HOd3Kr9rZUp",
        "colab": {}
      },
      "source": [
        "links = soup.find_all(\"td\")\n",
        "i = []\n",
        "nn = []\n",
        "nn1=[]\n",
        "c=0\n",
        "for l in links:\n",
        "    l = str(l)\n",
        "    if len(l) >= 500: #we know the biggest sentance/adress is aroung 150 words so we do this to avoid useless iterations\n",
        "        break\n",
        "    if len(l) == 13:\n",
        "        i.append(l[4:-6])   # we eliminate the td present at the starting and ending therefore giving us the entire sentance\n",
        "    else:\n",
        "        if c==0:\n",
        "            nn.append(l[4:-6])\n",
        "            c+=1\n",
        "        else:\n",
        "            nn1.append(l[4:-6])\n",
        "            c=0"
      ],
      "execution_count": 0,
      "outputs": []
    },
    {
      "cell_type": "markdown",
      "metadata": {
        "id": "pA9TP5Rj127c",
        "colab_type": "text"
      },
      "source": [
        "# Converting to DataFrame"
      ]
    },
    {
      "cell_type": "code",
      "metadata": {
        "colab_type": "code",
        "id": "1ndjEs2g5I4S",
        "colab": {}
      },
      "source": [
        "df1 = pd.DataFrame({\n",
        "    \"Postal Code\":i,\n",
        "    \"Borough\":nn,\n",
        "    \"Neighborhood\":nn1\n",
        "},columns = [\"Postal Code\",\"Borough\",\"Neighborhood\"])"
      ],
      "execution_count": 0,
      "outputs": []
    },
    {
      "cell_type": "markdown",
      "metadata": {
        "id": "F50gsBxO127g",
        "colab_type": "text"
      },
      "source": [
        "## Removing codes which don't have a borough"
      ]
    },
    {
      "cell_type": "code",
      "metadata": {
        "colab_type": "code",
        "id": "PFK3-kDq-7um",
        "colab": {}
      },
      "source": [
        "df2 = df1[df1[\"Borough\"]!=\"Not assigned\"]\n",
        "df2 = df2.reset_index(drop = True) "
      ],
      "execution_count": 0,
      "outputs": []
    },
    {
      "cell_type": "markdown",
      "metadata": {
        "id": "iAsG3Py5127i",
        "colab_type": "text"
      },
      "source": [
        "## Checking if any neighborhood value is mssing after initial preprocessing"
      ]
    },
    {
      "cell_type": "code",
      "metadata": {
        "colab_type": "code",
        "id": "EUqDt-VJIeTB",
        "outputId": "839a1aa6-cdde-4ccc-a700-19554121aa10",
        "scrolled": true,
        "colab": {
          "base_uri": "https://localhost:8080/",
          "height": 50
        }
      },
      "source": [
        "df2['Neighborhood'].isnull().value_counts()"
      ],
      "execution_count": 163,
      "outputs": [
        {
          "output_type": "execute_result",
          "data": {
            "text/plain": [
              "False    103\n",
              "Name: Neighborhood, dtype: int64"
            ]
          },
          "metadata": {
            "tags": []
          },
          "execution_count": 163
        }
      ]
    },
    {
      "cell_type": "markdown",
      "metadata": {
        "id": "kmNOMLn62Snn",
        "colab_type": "text"
      },
      "source": [
        "# Checking shape of final dataframe"
      ]
    },
    {
      "cell_type": "code",
      "metadata": {
        "id": "84b8IRhn2cVu",
        "colab_type": "code",
        "outputId": "9c9115af-9679-4fb5-f2cf-960f9d06fcfb",
        "colab": {
          "base_uri": "https://localhost:8080/",
          "height": 34
        }
      },
      "source": [
        "df2.shape"
      ],
      "execution_count": 164,
      "outputs": [
        {
          "output_type": "execute_result",
          "data": {
            "text/plain": [
              "(103, 3)"
            ]
          },
          "metadata": {
            "tags": []
          },
          "execution_count": 164
        }
      ]
    },
    {
      "cell_type": "markdown",
      "metadata": {
        "id": "07VKcmpv127l",
        "colab_type": "text"
      },
      "source": [
        "# Try to use geocoders for latitudes and longitudes"
      ]
    },
    {
      "cell_type": "code",
      "metadata": {
        "colab_type": "code",
        "id": "Jh2FVxdNJEy8",
        "scrolled": false,
        "outputId": "afcd6a48-661e-4fb5-d772-e132c64ecdeb",
        "colab": {
          "base_uri": "https://localhost:8080/",
          "height": 235
        }
      },
      "source": [
        "!pip install geocoder\n",
        "!pip install geopy\n",
        "import geocoder\n",
        "from geopy.geocoders import Nominatim"
      ],
      "execution_count": 165,
      "outputs": [
        {
          "output_type": "stream",
          "text": [
            "Requirement already satisfied: geocoder in /usr/local/lib/python3.6/dist-packages (1.38.1)\n",
            "Requirement already satisfied: future in /usr/local/lib/python3.6/dist-packages (from geocoder) (0.16.0)\n",
            "Requirement already satisfied: click in /usr/local/lib/python3.6/dist-packages (from geocoder) (7.1.2)\n",
            "Requirement already satisfied: six in /usr/local/lib/python3.6/dist-packages (from geocoder) (1.12.0)\n",
            "Requirement already satisfied: requests in /usr/local/lib/python3.6/dist-packages (from geocoder) (2.23.0)\n",
            "Requirement already satisfied: ratelim in /usr/local/lib/python3.6/dist-packages (from geocoder) (0.1.6)\n",
            "Requirement already satisfied: certifi>=2017.4.17 in /usr/local/lib/python3.6/dist-packages (from requests->geocoder) (2020.4.5.1)\n",
            "Requirement already satisfied: idna<3,>=2.5 in /usr/local/lib/python3.6/dist-packages (from requests->geocoder) (2.9)\n",
            "Requirement already satisfied: urllib3!=1.25.0,!=1.25.1,<1.26,>=1.21.1 in /usr/local/lib/python3.6/dist-packages (from requests->geocoder) (1.24.3)\n",
            "Requirement already satisfied: chardet<4,>=3.0.2 in /usr/local/lib/python3.6/dist-packages (from requests->geocoder) (3.0.4)\n",
            "Requirement already satisfied: decorator in /usr/local/lib/python3.6/dist-packages (from ratelim->geocoder) (4.4.2)\n",
            "Requirement already satisfied: geopy in /usr/local/lib/python3.6/dist-packages (1.17.0)\n",
            "Requirement already satisfied: geographiclib<2,>=1.49 in /usr/local/lib/python3.6/dist-packages (from geopy) (1.50)\n"
          ],
          "name": "stdout"
        }
      ]
    },
    {
      "cell_type": "markdown",
      "metadata": {
        "id": "PXS4YZ9b127n",
        "colab_type": "text"
      },
      "source": [
        "### Geocoders were not able to give out locations for majority of the adresses so a decision was made to not use them instead the csv file \"Geospatial_Coordinates.csv\" is used for our dataframe setup"
      ]
    },
    {
      "cell_type": "code",
      "metadata": {
        "colab_type": "code",
        "id": "n_iZBJ48SsHU",
        "outputId": "e02d9408-5c14-4524-e060-301be8d2c14a",
        "colab": {
          "base_uri": "https://localhost:8080/",
          "height": 195
        }
      },
      "source": [
        "loca = pd.read_csv(\"Geospatial_Coordinates.csv\")\n",
        "loca.head()"
      ],
      "execution_count": 166,
      "outputs": [
        {
          "output_type": "execute_result",
          "data": {
            "text/html": [
              "<div>\n",
              "<style scoped>\n",
              "    .dataframe tbody tr th:only-of-type {\n",
              "        vertical-align: middle;\n",
              "    }\n",
              "\n",
              "    .dataframe tbody tr th {\n",
              "        vertical-align: top;\n",
              "    }\n",
              "\n",
              "    .dataframe thead th {\n",
              "        text-align: right;\n",
              "    }\n",
              "</style>\n",
              "<table border=\"1\" class=\"dataframe\">\n",
              "  <thead>\n",
              "    <tr style=\"text-align: right;\">\n",
              "      <th></th>\n",
              "      <th>Postal Code</th>\n",
              "      <th>Latitude</th>\n",
              "      <th>Longitude</th>\n",
              "    </tr>\n",
              "  </thead>\n",
              "  <tbody>\n",
              "    <tr>\n",
              "      <th>0</th>\n",
              "      <td>M1B</td>\n",
              "      <td>43.806686</td>\n",
              "      <td>-79.194353</td>\n",
              "    </tr>\n",
              "    <tr>\n",
              "      <th>1</th>\n",
              "      <td>M1C</td>\n",
              "      <td>43.784535</td>\n",
              "      <td>-79.160497</td>\n",
              "    </tr>\n",
              "    <tr>\n",
              "      <th>2</th>\n",
              "      <td>M1E</td>\n",
              "      <td>43.763573</td>\n",
              "      <td>-79.188711</td>\n",
              "    </tr>\n",
              "    <tr>\n",
              "      <th>3</th>\n",
              "      <td>M1G</td>\n",
              "      <td>43.770992</td>\n",
              "      <td>-79.216917</td>\n",
              "    </tr>\n",
              "    <tr>\n",
              "      <th>4</th>\n",
              "      <td>M1H</td>\n",
              "      <td>43.773136</td>\n",
              "      <td>-79.239476</td>\n",
              "    </tr>\n",
              "  </tbody>\n",
              "</table>\n",
              "</div>"
            ],
            "text/plain": [
              "  Postal Code   Latitude  Longitude\n",
              "0         M1B  43.806686 -79.194353\n",
              "1         M1C  43.784535 -79.160497\n",
              "2         M1E  43.763573 -79.188711\n",
              "3         M1G  43.770992 -79.216917\n",
              "4         M1H  43.773136 -79.239476"
            ]
          },
          "metadata": {
            "tags": []
          },
          "execution_count": 166
        }
      ]
    },
    {
      "cell_type": "code",
      "metadata": {
        "id": "mMkB1RiE127q",
        "colab_type": "code",
        "outputId": "3e50488c-e352-4010-e7f1-3d74050aff36",
        "colab": {
          "base_uri": "https://localhost:8080/",
          "height": 50
        }
      },
      "source": [
        "loca['Postal Code'].isin(df2['Postal Code']).value_counts()"
      ],
      "execution_count": 167,
      "outputs": [
        {
          "output_type": "execute_result",
          "data": {
            "text/plain": [
              "True    103\n",
              "Name: Postal Code, dtype: int64"
            ]
          },
          "metadata": {
            "tags": []
          },
          "execution_count": 167
        }
      ]
    },
    {
      "cell_type": "markdown",
      "metadata": {
        "id": "uqQBPdVU127r",
        "colab_type": "text"
      },
      "source": [
        "# Merging both the datasets into a final dataset"
      ]
    },
    {
      "cell_type": "code",
      "metadata": {
        "colab_type": "code",
        "id": "1GxagFxUUAu3",
        "colab": {}
      },
      "source": [
        "final = pd.merge(df2, loca[[\"Postal Code\",\"Latitude\",\"Longitude\"]], on = 'Postal Code')"
      ],
      "execution_count": 0,
      "outputs": []
    },
    {
      "cell_type": "code",
      "metadata": {
        "colab_type": "code",
        "id": "0lUDWC1tUCqH",
        "outputId": "c3794008-ed3b-4579-c7ba-7842800ff748",
        "colab": {
          "base_uri": "https://localhost:8080/",
          "height": 195
        }
      },
      "source": [
        "final.head()"
      ],
      "execution_count": 169,
      "outputs": [
        {
          "output_type": "execute_result",
          "data": {
            "text/html": [
              "<div>\n",
              "<style scoped>\n",
              "    .dataframe tbody tr th:only-of-type {\n",
              "        vertical-align: middle;\n",
              "    }\n",
              "\n",
              "    .dataframe tbody tr th {\n",
              "        vertical-align: top;\n",
              "    }\n",
              "\n",
              "    .dataframe thead th {\n",
              "        text-align: right;\n",
              "    }\n",
              "</style>\n",
              "<table border=\"1\" class=\"dataframe\">\n",
              "  <thead>\n",
              "    <tr style=\"text-align: right;\">\n",
              "      <th></th>\n",
              "      <th>Postal Code</th>\n",
              "      <th>Borough</th>\n",
              "      <th>Neighborhood</th>\n",
              "      <th>Latitude</th>\n",
              "      <th>Longitude</th>\n",
              "    </tr>\n",
              "  </thead>\n",
              "  <tbody>\n",
              "    <tr>\n",
              "      <th>0</th>\n",
              "      <td>M3A</td>\n",
              "      <td>North York</td>\n",
              "      <td>Parkwoods</td>\n",
              "      <td>43.753259</td>\n",
              "      <td>-79.329656</td>\n",
              "    </tr>\n",
              "    <tr>\n",
              "      <th>1</th>\n",
              "      <td>M4A</td>\n",
              "      <td>North York</td>\n",
              "      <td>Victoria Village</td>\n",
              "      <td>43.725882</td>\n",
              "      <td>-79.315572</td>\n",
              "    </tr>\n",
              "    <tr>\n",
              "      <th>2</th>\n",
              "      <td>M5A</td>\n",
              "      <td>Downtown Toronto</td>\n",
              "      <td>Regent Park, Harbourfront</td>\n",
              "      <td>43.654260</td>\n",
              "      <td>-79.360636</td>\n",
              "    </tr>\n",
              "    <tr>\n",
              "      <th>3</th>\n",
              "      <td>M6A</td>\n",
              "      <td>North York</td>\n",
              "      <td>Lawrence Manor, Lawrence Heights</td>\n",
              "      <td>43.718518</td>\n",
              "      <td>-79.464763</td>\n",
              "    </tr>\n",
              "    <tr>\n",
              "      <th>4</th>\n",
              "      <td>M7A</td>\n",
              "      <td>Downtown Toronto</td>\n",
              "      <td>Queen's Park, Ontario Provincial Government</td>\n",
              "      <td>43.662301</td>\n",
              "      <td>-79.389494</td>\n",
              "    </tr>\n",
              "  </tbody>\n",
              "</table>\n",
              "</div>"
            ],
            "text/plain": [
              "  Postal Code           Borough  ...   Latitude  Longitude\n",
              "0         M3A        North York  ...  43.753259 -79.329656\n",
              "1         M4A        North York  ...  43.725882 -79.315572\n",
              "2         M5A  Downtown Toronto  ...  43.654260 -79.360636\n",
              "3         M6A        North York  ...  43.718518 -79.464763\n",
              "4         M7A  Downtown Toronto  ...  43.662301 -79.389494\n",
              "\n",
              "[5 rows x 5 columns]"
            ]
          },
          "metadata": {
            "tags": []
          },
          "execution_count": 169
        }
      ]
    },
    {
      "cell_type": "markdown",
      "metadata": {
        "id": "uP6hLhvO127y",
        "colab_type": "text"
      },
      "source": [
        "# Exporting the dataframe to csv for further uses"
      ]
    },
    {
      "cell_type": "code",
      "metadata": {
        "id": "WPNeN95b127y",
        "colab_type": "code",
        "colab": {}
      },
      "source": [
        "final.to_csv(\"Wiki_final.csv\")"
      ],
      "execution_count": 0,
      "outputs": []
    },
    {
      "cell_type": "markdown",
      "metadata": {
        "id": "m5Lk4XQt1270",
        "colab_type": "text"
      },
      "source": [
        "# Checking the shape"
      ]
    },
    {
      "cell_type": "code",
      "metadata": {
        "id": "wVtkIeKA1270",
        "colab_type": "code",
        "outputId": "42c1ff84-8093-4651-d693-7f18e9b5b000",
        "colab": {
          "base_uri": "https://localhost:8080/",
          "height": 34
        }
      },
      "source": [
        "final.columns"
      ],
      "execution_count": 171,
      "outputs": [
        {
          "output_type": "execute_result",
          "data": {
            "text/plain": [
              "Index(['Postal Code', 'Borough', 'Neighborhood', 'Latitude', 'Longitude'], dtype='object')"
            ]
          },
          "metadata": {
            "tags": []
          },
          "execution_count": 171
        }
      ]
    },
    {
      "cell_type": "markdown",
      "metadata": {
        "id": "DBUw7CgBA0GG",
        "colab_type": "text"
      },
      "source": [
        "# Selecting boroughs having Toronto in their name"
      ]
    },
    {
      "cell_type": "code",
      "metadata": {
        "id": "iTljPa8v5cDB",
        "colab_type": "code",
        "colab": {}
      },
      "source": [
        "g = -1\n",
        "col = final.columns\n",
        "final1 = pd.DataFrame(columns = col)\n",
        "for f in final[\"Borough\"]:\n",
        "  g+=1\n",
        "  if f[-7:] == 'Toronto':\n",
        "    final1 = final1.append({\"Postal Code\": final.loc[g,\"Postal Code\"],\n",
        "                            \"Borough\": final.loc[g,\"Borough\"],\n",
        "                            \"Neighborhood\": final.loc[g, \"Neighborhood\"],\n",
        "                            \"Latitude\": final.loc[g, \"Latitude\"],\n",
        "                            \"Longitude\": final.loc[g, \"Longitude\"]}, ignore_index=True)"
      ],
      "execution_count": 0,
      "outputs": []
    },
    {
      "cell_type": "code",
      "metadata": {
        "id": "O82R5IVg_aEb",
        "colab_type": "code",
        "colab": {}
      },
      "source": [
        "import folium"
      ],
      "execution_count": 0,
      "outputs": []
    },
    {
      "cell_type": "code",
      "metadata": {
        "id": "OEzCIOfiIeMy",
        "colab_type": "code",
        "colab": {}
      },
      "source": [
        "address = 'Ontario, Toronto'\n",
        "geo = Nominatim(user_agent = 'tr_explorer')\n",
        "loc = geo.geocode(address)\n",
        "lat = loc.latitude\n",
        "long = loc.longitude "
      ],
      "execution_count": 0,
      "outputs": []
    },
    {
      "cell_type": "code",
      "metadata": {
        "id": "VNVCeVx8JIR4",
        "colab_type": "code",
        "colab": {}
      },
      "source": [
        "map_tr = folium.Map(location = [lat, long], zoom_start = 10)"
      ],
      "execution_count": 0,
      "outputs": []
    },
    {
      "cell_type": "markdown",
      "metadata": {
        "id": "CyiVVxz-A-dw",
        "colab_type": "text"
      },
      "source": [
        "# Plotting the boroughs near Toronto"
      ]
    },
    {
      "cell_type": "code",
      "metadata": {
        "id": "ZAfLTkmHJJ_q",
        "colab_type": "code",
        "colab": {}
      },
      "source": [
        "for la,lo,bo,nei in zip(final1['Latitude'],final1['Longitude'],final1['Borough'],final1['Neighborhood']):\n",
        "  label = '{},{}'.format(nei, bo)\n",
        "  label = folium.Popup(label, parse_html=True)\n",
        "  folium.CircleMarker(\n",
        "        [la, lo],\n",
        "        radius=5,\n",
        "        popup=label,\n",
        "        color='blue',\n",
        "        fill=True,\n",
        "        fill_color='#3186cc',\n",
        "        fill_opacity=0.7,\n",
        "        parse_html=False).add_to(map_tr)"
      ],
      "execution_count": 0,
      "outputs": []
    },
    {
      "cell_type": "code",
      "metadata": {
        "id": "j5GalUxdKqN9",
        "colab_type": "code",
        "colab": {
          "base_uri": "https://localhost:8080/",
          "height": 866
        },
        "outputId": "6a48c301-9ec3-4901-9466-ae23feae1b72"
      },
      "source": [
        "map_tr"
      ],
      "execution_count": 178,
      "outputs": [
        {
          "output_type": "execute_result",
          "data": {
            "text/html": [
              "<div style=\"width:100%;\"><div style=\"position:relative;width:100%;height:0;padding-bottom:60%;\"><span style=\"color:#565656\">Make this Notebook Trusted to load map: File -> Trust Notebook</span><iframe src=\"about:blank\" style=\"position:absolute;width:100%;height:100%;left:0;top:0;border:none !important;\" data-html=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 onload=\"this.contentDocument.open();this.contentDocument.write(atob(this.getAttribute('data-html')));this.contentDocument.close();\" allowfullscreen webkitallowfullscreen mozallowfullscreen></iframe></div></div>"
            ],
            "text/plain": [
              "<folium.folium.Map at 0x7f3d01a7f748>"
            ]
          },
          "metadata": {
            "tags": []
          },
          "execution_count": 178
        }
      ]
    },
    {
      "cell_type": "markdown",
      "metadata": {
        "id": "q8T6W4cmBJon",
        "colab_type": "text"
      },
      "source": [
        "# Using foursquare database"
      ]
    },
    {
      "cell_type": "code",
      "metadata": {
        "id": "g9BSKP_VKryX",
        "colab_type": "code",
        "colab": {}
      },
      "source": [
        "c_id = 'EE500GIJJWSAWLLSAJFKXSDXZ1KHSITBDHWYW52RTH4BKKAK'\n",
        "c_se = 'QM1D2VGHTUF3IN00AYTV25PRY0WOID203BG2Q5JZPXPMADLF'\n",
        "ver = '20180605'"
      ],
      "execution_count": 0,
      "outputs": []
    },
    {
      "cell_type": "code",
      "metadata": {
        "id": "Up5AWDhTMnp4",
        "colab_type": "code",
        "colab": {}
      },
      "source": [
        "# type your answer here\n",
        "radius = 500\n",
        "limit=100\n",
        "url = 'https://api.foursquare.com/v2/venues/explore?&client_id={}&client_secret={}&ll={},{}&v={}&radius={}&limit={}'.format(c_id,c_se,lat,long,ver,radius,limit)"
      ],
      "execution_count": 0,
      "outputs": []
    },
    {
      "cell_type": "code",
      "metadata": {
        "id": "mifF9YxcQI01",
        "colab_type": "code",
        "colab": {}
      },
      "source": [
        "result = req.get(url).json()"
      ],
      "execution_count": 0,
      "outputs": []
    },
    {
      "cell_type": "markdown",
      "metadata": {
        "id": "GlWHapqQBQli",
        "colab_type": "text"
      },
      "source": [
        "### Here we use get_category function from foursquare api"
      ]
    },
    {
      "cell_type": "code",
      "metadata": {
        "id": "S5arPQqBQUrg",
        "colab_type": "code",
        "colab": {}
      },
      "source": [
        "def get_category_type(row):\n",
        "  try:\n",
        "    cat_lis = row['categories']\n",
        "  except:\n",
        "    cat_lis = row['venue.categories']\n",
        "  if len(cat_lis)==0:\n",
        "    return None\n",
        "  else:\n",
        "    return cat_lis[0]['name']"
      ],
      "execution_count": 0,
      "outputs": []
    },
    {
      "cell_type": "code",
      "metadata": {
        "id": "vAOQ-PdXZ6vO",
        "colab_type": "code",
        "colab": {}
      },
      "source": [
        "venue = result['response']['groups'][0]['items']"
      ],
      "execution_count": 0,
      "outputs": []
    },
    {
      "cell_type": "code",
      "metadata": {
        "id": "ddu7W_qEbNYz",
        "colab_type": "code",
        "colab": {
          "base_uri": "https://localhost:8080/",
          "height": 50
        },
        "outputId": "50334f10-1a76-47bc-bfe9-278557d7dc9d"
      },
      "source": [
        "from pandas.io.json import json_normalize \n",
        "n_ven = json_normalize(venue)"
      ],
      "execution_count": 184,
      "outputs": [
        {
          "output_type": "stream",
          "text": [
            "/usr/local/lib/python3.6/dist-packages/ipykernel_launcher.py:2: FutureWarning: pandas.io.json.json_normalize is deprecated, use pandas.json_normalize instead\n",
            "  \n"
          ],
          "name": "stderr"
        }
      ]
    },
    {
      "cell_type": "code",
      "metadata": {
        "id": "1ITuUK5eb47V",
        "colab_type": "code",
        "colab": {
          "base_uri": "https://localhost:8080/",
          "height": 467
        },
        "outputId": "a87cd23b-4190-43de-b896-8bf641eaf5ee"
      },
      "source": [
        "n_ven.tail()"
      ],
      "execution_count": 185,
      "outputs": [
        {
          "output_type": "execute_result",
          "data": {
            "text/html": [
              "<div>\n",
              "<style scoped>\n",
              "    .dataframe tbody tr th:only-of-type {\n",
              "        vertical-align: middle;\n",
              "    }\n",
              "\n",
              "    .dataframe tbody tr th {\n",
              "        vertical-align: top;\n",
              "    }\n",
              "\n",
              "    .dataframe thead th {\n",
              "        text-align: right;\n",
              "    }\n",
              "</style>\n",
              "<table border=\"1\" class=\"dataframe\">\n",
              "  <thead>\n",
              "    <tr style=\"text-align: right;\">\n",
              "      <th></th>\n",
              "      <th>referralId</th>\n",
              "      <th>reasons.count</th>\n",
              "      <th>reasons.items</th>\n",
              "      <th>venue.id</th>\n",
              "      <th>venue.name</th>\n",
              "      <th>venue.location.lat</th>\n",
              "      <th>venue.location.lng</th>\n",
              "      <th>venue.location.labeledLatLngs</th>\n",
              "      <th>venue.location.distance</th>\n",
              "      <th>venue.location.cc</th>\n",
              "      <th>venue.location.city</th>\n",
              "      <th>venue.location.state</th>\n",
              "      <th>venue.location.country</th>\n",
              "      <th>venue.location.formattedAddress</th>\n",
              "      <th>venue.categories</th>\n",
              "      <th>venue.photos.count</th>\n",
              "      <th>venue.photos.groups</th>\n",
              "      <th>venue.location.address</th>\n",
              "      <th>venue.location.crossStreet</th>\n",
              "      <th>venue.location.postalCode</th>\n",
              "      <th>venue.location.neighborhood</th>\n",
              "      <th>venue.venuePage.id</th>\n",
              "    </tr>\n",
              "  </thead>\n",
              "  <tbody>\n",
              "    <tr>\n",
              "      <th>66</th>\n",
              "      <td>e-0-4ad9ffbbf964a520091d21e3-66</td>\n",
              "      <td>0</td>\n",
              "      <td>[{'summary': 'This spot is popular', 'type': '...</td>\n",
              "      <td>4ad9ffbbf964a520091d21e3</td>\n",
              "      <td>Jack Astor's Bar &amp; Grill</td>\n",
              "      <td>43.656019</td>\n",
              "      <td>-79.380326</td>\n",
              "      <td>[{'label': 'display', 'lat': 43.65601939992059...</td>\n",
              "      <td>405</td>\n",
              "      <td>CA</td>\n",
              "      <td>Toronto</td>\n",
              "      <td>ON</td>\n",
              "      <td>Canada</td>\n",
              "      <td>[10 Dundas St. E (at Yonge St.), Toronto ON M5...</td>\n",
              "      <td>[{'id': '4bf58dd8d48988d1c4941735', 'name': 'R...</td>\n",
              "      <td>0</td>\n",
              "      <td>[]</td>\n",
              "      <td>10 Dundas St. E</td>\n",
              "      <td>at Yonge St.</td>\n",
              "      <td>M5B 0A1</td>\n",
              "      <td>NaN</td>\n",
              "      <td>NaN</td>\n",
              "    </tr>\n",
              "    <tr>\n",
              "      <th>67</th>\n",
              "      <td>e-0-4ae61cf6f964a520caa421e3-67</td>\n",
              "      <td>0</td>\n",
              "      <td>[{'summary': 'This spot is popular', 'type': '...</td>\n",
              "      <td>4ae61cf6f964a520caa421e3</td>\n",
              "      <td>Pantages Hotel &amp; Spa</td>\n",
              "      <td>43.654498</td>\n",
              "      <td>-79.379035</td>\n",
              "      <td>[{'label': 'display', 'lat': 43.65449797039222...</td>\n",
              "      <td>410</td>\n",
              "      <td>CA</td>\n",
              "      <td>Toronto</td>\n",
              "      <td>ON</td>\n",
              "      <td>Canada</td>\n",
              "      <td>[200 Victoria St (at Shuter St), Toronto ON, C...</td>\n",
              "      <td>[{'id': '4bf58dd8d48988d1fa931735', 'name': 'H...</td>\n",
              "      <td>0</td>\n",
              "      <td>[]</td>\n",
              "      <td>200 Victoria St</td>\n",
              "      <td>at Shuter St</td>\n",
              "      <td>NaN</td>\n",
              "      <td>NaN</td>\n",
              "      <td>NaN</td>\n",
              "    </tr>\n",
              "    <tr>\n",
              "      <th>68</th>\n",
              "      <td>e-0-4b7aa994f964a5200c362fe3-68</td>\n",
              "      <td>0</td>\n",
              "      <td>[{'summary': 'This spot is popular', 'type': '...</td>\n",
              "      <td>4b7aa994f964a5200c362fe3</td>\n",
              "      <td>Tim Hortons</td>\n",
              "      <td>43.655212</td>\n",
              "      <td>-79.380063</td>\n",
              "      <td>[{'label': 'display', 'lat': 43.65521249025681...</td>\n",
              "      <td>366</td>\n",
              "      <td>CA</td>\n",
              "      <td>Toronto</td>\n",
              "      <td>ON</td>\n",
              "      <td>Canada</td>\n",
              "      <td>[261 Yonge St, Toronto ON M5B 1N8, Canada]</td>\n",
              "      <td>[{'id': '4bf58dd8d48988d1e0931735', 'name': 'C...</td>\n",
              "      <td>0</td>\n",
              "      <td>[]</td>\n",
              "      <td>261 Yonge St</td>\n",
              "      <td>NaN</td>\n",
              "      <td>M5B 1N8</td>\n",
              "      <td>NaN</td>\n",
              "      <td>NaN</td>\n",
              "    </tr>\n",
              "    <tr>\n",
              "      <th>69</th>\n",
              "      <td>e-0-4b6a0069f964a520f3c02be3-69</td>\n",
              "      <td>0</td>\n",
              "      <td>[{'summary': 'This spot is popular', 'type': '...</td>\n",
              "      <td>4b6a0069f964a520f3c02be3</td>\n",
              "      <td>Pantages Lounge &amp; Bar</td>\n",
              "      <td>43.654493</td>\n",
              "      <td>-79.379000</td>\n",
              "      <td>[{'label': 'display', 'lat': 43.65449343126956...</td>\n",
              "      <td>413</td>\n",
              "      <td>CA</td>\n",
              "      <td>Toronto</td>\n",
              "      <td>ON</td>\n",
              "      <td>Canada</td>\n",
              "      <td>[200 Victoria St. (at Shuter St.), Toronto ON ...</td>\n",
              "      <td>[{'id': '4bf58dd8d48988d11e941735', 'name': 'C...</td>\n",
              "      <td>0</td>\n",
              "      <td>[]</td>\n",
              "      <td>200 Victoria St.</td>\n",
              "      <td>at Shuter St.</td>\n",
              "      <td>M5B 1W8</td>\n",
              "      <td>NaN</td>\n",
              "      <td>NaN</td>\n",
              "    </tr>\n",
              "    <tr>\n",
              "      <th>70</th>\n",
              "      <td>e-0-4b5219ccf964a520d56727e3-70</td>\n",
              "      <td>0</td>\n",
              "      <td>[{'summary': 'This spot is popular', 'type': '...</td>\n",
              "      <td>4b5219ccf964a520d56727e3</td>\n",
              "      <td>Tim Hortons</td>\n",
              "      <td>43.653690</td>\n",
              "      <td>-79.378356</td>\n",
              "      <td>[{'label': 'display', 'lat': 43.6536897, 'lng'...</td>\n",
              "      <td>449</td>\n",
              "      <td>CA</td>\n",
              "      <td>Toronto</td>\n",
              "      <td>ON</td>\n",
              "      <td>Canada</td>\n",
              "      <td>[30 Bond St (in St. Michael's Hospital), Toron...</td>\n",
              "      <td>[{'id': '4bf58dd8d48988d1e0931735', 'name': 'C...</td>\n",
              "      <td>0</td>\n",
              "      <td>[]</td>\n",
              "      <td>30 Bond St</td>\n",
              "      <td>in St. Michael's Hospital</td>\n",
              "      <td>M5B 1W8</td>\n",
              "      <td>NaN</td>\n",
              "      <td>NaN</td>\n",
              "    </tr>\n",
              "  </tbody>\n",
              "</table>\n",
              "</div>"
            ],
            "text/plain": [
              "                         referralId  ...  venue.venuePage.id\n",
              "66  e-0-4ad9ffbbf964a520091d21e3-66  ...                 NaN\n",
              "67  e-0-4ae61cf6f964a520caa421e3-67  ...                 NaN\n",
              "68  e-0-4b7aa994f964a5200c362fe3-68  ...                 NaN\n",
              "69  e-0-4b6a0069f964a520f3c02be3-69  ...                 NaN\n",
              "70  e-0-4b5219ccf964a520d56727e3-70  ...                 NaN\n",
              "\n",
              "[5 rows x 22 columns]"
            ]
          },
          "metadata": {
            "tags": []
          },
          "execution_count": 185
        }
      ]
    },
    {
      "cell_type": "code",
      "metadata": {
        "id": "WSpFsfa42Ag4",
        "colab_type": "code",
        "colab": {}
      },
      "source": [
        "n_ven1=[]"
      ],
      "execution_count": 0,
      "outputs": []
    },
    {
      "cell_type": "markdown",
      "metadata": {
        "id": "wpvf8169BmcV",
        "colab_type": "text"
      },
      "source": [
        "### Converting the useful information in respone/groups/0/item to a dataframe"
      ]
    },
    {
      "cell_type": "code",
      "metadata": {
        "id": "TlBUUdGscQxw",
        "colab_type": "code",
        "colab": {}
      },
      "source": [
        "re_col = ['venue.categories','venue.location.lat','venue.location.lng']\n",
        "n_ven1 = pd.DataFrame(n_ven.loc[:,'venue.name'])\n",
        "for f in re_col:\n",
        "  n_ven1[f] = n_ven[f]"
      ],
      "execution_count": 0,
      "outputs": []
    },
    {
      "cell_type": "code",
      "metadata": {
        "id": "fEoCCyz41vqv",
        "colab_type": "code",
        "colab": {
          "base_uri": "https://localhost:8080/",
          "height": 195
        },
        "outputId": "5face48f-4c05-45a1-e495-a11d6c5e3888"
      },
      "source": [
        "n_ven1.head()"
      ],
      "execution_count": 188,
      "outputs": [
        {
          "output_type": "execute_result",
          "data": {
            "text/html": [
              "<div>\n",
              "<style scoped>\n",
              "    .dataframe tbody tr th:only-of-type {\n",
              "        vertical-align: middle;\n",
              "    }\n",
              "\n",
              "    .dataframe tbody tr th {\n",
              "        vertical-align: top;\n",
              "    }\n",
              "\n",
              "    .dataframe thead th {\n",
              "        text-align: right;\n",
              "    }\n",
              "</style>\n",
              "<table border=\"1\" class=\"dataframe\">\n",
              "  <thead>\n",
              "    <tr style=\"text-align: right;\">\n",
              "      <th></th>\n",
              "      <th>venue.name</th>\n",
              "      <th>venue.categories</th>\n",
              "      <th>venue.location.lat</th>\n",
              "      <th>venue.location.lng</th>\n",
              "    </tr>\n",
              "  </thead>\n",
              "  <tbody>\n",
              "    <tr>\n",
              "      <th>0</th>\n",
              "      <td>Downtown Toronto</td>\n",
              "      <td>[{'id': '4f2a25ac4b909258e854f55f', 'name': 'N...</td>\n",
              "      <td>43.653232</td>\n",
              "      <td>-79.385296</td>\n",
              "    </tr>\n",
              "    <tr>\n",
              "      <th>1</th>\n",
              "      <td>Nathan Phillips Square</td>\n",
              "      <td>[{'id': '4bf58dd8d48988d164941735', 'name': 'P...</td>\n",
              "      <td>43.652270</td>\n",
              "      <td>-79.383516</td>\n",
              "    </tr>\n",
              "    <tr>\n",
              "      <th>2</th>\n",
              "      <td>Indigo</td>\n",
              "      <td>[{'id': '4bf58dd8d48988d114951735', 'name': 'B...</td>\n",
              "      <td>43.653515</td>\n",
              "      <td>-79.380696</td>\n",
              "    </tr>\n",
              "    <tr>\n",
              "      <th>3</th>\n",
              "      <td>Chatime 日出茶太</td>\n",
              "      <td>[{'id': '52e81612bcbc57f1066b7a0c', 'name': 'B...</td>\n",
              "      <td>43.655542</td>\n",
              "      <td>-79.384684</td>\n",
              "    </tr>\n",
              "    <tr>\n",
              "      <th>4</th>\n",
              "      <td>Textile Museum of Canada</td>\n",
              "      <td>[{'id': '4bf58dd8d48988d18f941735', 'name': 'A...</td>\n",
              "      <td>43.654396</td>\n",
              "      <td>-79.386500</td>\n",
              "    </tr>\n",
              "  </tbody>\n",
              "</table>\n",
              "</div>"
            ],
            "text/plain": [
              "                 venue.name  ... venue.location.lng\n",
              "0          Downtown Toronto  ...         -79.385296\n",
              "1    Nathan Phillips Square  ...         -79.383516\n",
              "2                    Indigo  ...         -79.380696\n",
              "3              Chatime 日出茶太  ...         -79.384684\n",
              "4  Textile Museum of Canada  ...         -79.386500\n",
              "\n",
              "[5 rows x 4 columns]"
            ]
          },
          "metadata": {
            "tags": []
          },
          "execution_count": 188
        }
      ]
    },
    {
      "cell_type": "code",
      "metadata": {
        "id": "apD4OGgK4si9",
        "colab_type": "code",
        "colab": {}
      },
      "source": [
        "n_ven1['venue.categories'] = n_ven1.apply(get_category_type, axis = 1)"
      ],
      "execution_count": 0,
      "outputs": []
    },
    {
      "cell_type": "code",
      "metadata": {
        "id": "VERY8rMa5Q0O",
        "colab_type": "code",
        "colab": {
          "base_uri": "https://localhost:8080/",
          "height": 195
        },
        "outputId": "b8a05bbe-e229-4727-cd15-c00cdfa23ade"
      },
      "source": [
        "n_ven1.head()"
      ],
      "execution_count": 190,
      "outputs": [
        {
          "output_type": "execute_result",
          "data": {
            "text/html": [
              "<div>\n",
              "<style scoped>\n",
              "    .dataframe tbody tr th:only-of-type {\n",
              "        vertical-align: middle;\n",
              "    }\n",
              "\n",
              "    .dataframe tbody tr th {\n",
              "        vertical-align: top;\n",
              "    }\n",
              "\n",
              "    .dataframe thead th {\n",
              "        text-align: right;\n",
              "    }\n",
              "</style>\n",
              "<table border=\"1\" class=\"dataframe\">\n",
              "  <thead>\n",
              "    <tr style=\"text-align: right;\">\n",
              "      <th></th>\n",
              "      <th>venue.name</th>\n",
              "      <th>venue.categories</th>\n",
              "      <th>venue.location.lat</th>\n",
              "      <th>venue.location.lng</th>\n",
              "    </tr>\n",
              "  </thead>\n",
              "  <tbody>\n",
              "    <tr>\n",
              "      <th>0</th>\n",
              "      <td>Downtown Toronto</td>\n",
              "      <td>Neighborhood</td>\n",
              "      <td>43.653232</td>\n",
              "      <td>-79.385296</td>\n",
              "    </tr>\n",
              "    <tr>\n",
              "      <th>1</th>\n",
              "      <td>Nathan Phillips Square</td>\n",
              "      <td>Plaza</td>\n",
              "      <td>43.652270</td>\n",
              "      <td>-79.383516</td>\n",
              "    </tr>\n",
              "    <tr>\n",
              "      <th>2</th>\n",
              "      <td>Indigo</td>\n",
              "      <td>Bookstore</td>\n",
              "      <td>43.653515</td>\n",
              "      <td>-79.380696</td>\n",
              "    </tr>\n",
              "    <tr>\n",
              "      <th>3</th>\n",
              "      <td>Chatime 日出茶太</td>\n",
              "      <td>Bubble Tea Shop</td>\n",
              "      <td>43.655542</td>\n",
              "      <td>-79.384684</td>\n",
              "    </tr>\n",
              "    <tr>\n",
              "      <th>4</th>\n",
              "      <td>Textile Museum of Canada</td>\n",
              "      <td>Art Museum</td>\n",
              "      <td>43.654396</td>\n",
              "      <td>-79.386500</td>\n",
              "    </tr>\n",
              "  </tbody>\n",
              "</table>\n",
              "</div>"
            ],
            "text/plain": [
              "                 venue.name  ... venue.location.lng\n",
              "0          Downtown Toronto  ...         -79.385296\n",
              "1    Nathan Phillips Square  ...         -79.383516\n",
              "2                    Indigo  ...         -79.380696\n",
              "3              Chatime 日出茶太  ...         -79.384684\n",
              "4  Textile Museum of Canada  ...         -79.386500\n",
              "\n",
              "[5 rows x 4 columns]"
            ]
          },
          "metadata": {
            "tags": []
          },
          "execution_count": 190
        }
      ]
    },
    {
      "cell_type": "markdown",
      "metadata": {
        "id": "IPc0iE_NB_wY",
        "colab_type": "text"
      },
      "source": [
        "# Exploring the neighborhoods using foursquare data "
      ]
    },
    {
      "cell_type": "code",
      "metadata": {
        "id": "ZiYZoR9J53AK",
        "colab_type": "code",
        "colab": {}
      },
      "source": [
        "def getNearbyVenues(names, latitudes, longitudes, radius=500):\n",
        "    \n",
        "    venues_list=[]\n",
        "    for name, lat, lng in zip(names, latitudes, longitudes):\n",
        "        #print(name)\n",
        "            \n",
        "        # create the API request URL\n",
        "        url = 'https://api.foursquare.com/v2/venues/explore?&client_id={}&client_secret={}&v={}&ll={},{}&radius={}&limit={}'.format(\n",
        "            c_id, \n",
        "            c_se, \n",
        "            ver, \n",
        "            lat, \n",
        "            lng, \n",
        "            radius, \n",
        "            limit)\n",
        "            \n",
        "        # make the GET request\n",
        "        results = req.get(url).json()[\"response\"]['groups'][0]['items']\n",
        "        \n",
        "        # return only relevant information for each nearby venue\n",
        "        venues_list.append([(\n",
        "            name, \n",
        "            lat, \n",
        "            lng, \n",
        "            v['venue']['name'], \n",
        "            v['venue']['location']['lat'], \n",
        "            v['venue']['location']['lng'],  \n",
        "            v['venue']['categories'][0]['name']) for v in results])\n",
        "    #print(venues_list)\n",
        "    nearby_venues = pd.DataFrame([item for venue_list in venues_list for item in venue_list])\n",
        "    nearby_venues.columns = ['Neighborhood', \n",
        "                  'Neighborhood Latitude', \n",
        "                  'Neighborhood Longitude', \n",
        "                  'Venue', \n",
        "                  'Venue Latitude', \n",
        "                  'Venue Longitude', \n",
        "                  'Venue Category']\n",
        "    \n",
        "    return(nearby_venues)"
      ],
      "execution_count": 0,
      "outputs": []
    },
    {
      "cell_type": "code",
      "metadata": {
        "id": "-eeww3UFTmBw",
        "colab_type": "code",
        "colab": {}
      },
      "source": [
        "# type your answer here\n",
        "\n",
        "t_ven = getNearbyVenues(names=final1['Neighborhood'],\n",
        "                                   latitudes=final1['Latitude'],\n",
        "                                   longitudes=final1['Longitude']\n",
        "                                  )\n"
      ],
      "execution_count": 0,
      "outputs": []
    },
    {
      "cell_type": "code",
      "metadata": {
        "id": "1KPtYRBwT2Eu",
        "colab_type": "code",
        "colab": {
          "base_uri": "https://localhost:8080/",
          "height": 418
        },
        "outputId": "d5279efe-cbda-4aa8-9347-791931f7dcf1"
      },
      "source": [
        "print(t_ven.shape)\n",
        "t_ven"
      ],
      "execution_count": 200,
      "outputs": [
        {
          "output_type": "stream",
          "text": [
            "(1602, 7)\n"
          ],
          "name": "stdout"
        },
        {
          "output_type": "execute_result",
          "data": {
            "text/html": [
              "<div>\n",
              "<style scoped>\n",
              "    .dataframe tbody tr th:only-of-type {\n",
              "        vertical-align: middle;\n",
              "    }\n",
              "\n",
              "    .dataframe tbody tr th {\n",
              "        vertical-align: top;\n",
              "    }\n",
              "\n",
              "    .dataframe thead th {\n",
              "        text-align: right;\n",
              "    }\n",
              "</style>\n",
              "<table border=\"1\" class=\"dataframe\">\n",
              "  <thead>\n",
              "    <tr style=\"text-align: right;\">\n",
              "      <th></th>\n",
              "      <th>Neighborhood</th>\n",
              "      <th>Neighborhood Latitude</th>\n",
              "      <th>Neighborhood Longitude</th>\n",
              "      <th>Venue</th>\n",
              "      <th>Venue Latitude</th>\n",
              "      <th>Venue Longitude</th>\n",
              "      <th>Venue Category</th>\n",
              "    </tr>\n",
              "  </thead>\n",
              "  <tbody>\n",
              "    <tr>\n",
              "      <th>0</th>\n",
              "      <td>Regent Park, Harbourfront</td>\n",
              "      <td>43.654260</td>\n",
              "      <td>-79.360636</td>\n",
              "      <td>Roselle Desserts</td>\n",
              "      <td>43.653447</td>\n",
              "      <td>-79.362017</td>\n",
              "      <td>Bakery</td>\n",
              "    </tr>\n",
              "    <tr>\n",
              "      <th>1</th>\n",
              "      <td>Regent Park, Harbourfront</td>\n",
              "      <td>43.654260</td>\n",
              "      <td>-79.360636</td>\n",
              "      <td>Tandem Coffee</td>\n",
              "      <td>43.653559</td>\n",
              "      <td>-79.361809</td>\n",
              "      <td>Coffee Shop</td>\n",
              "    </tr>\n",
              "    <tr>\n",
              "      <th>2</th>\n",
              "      <td>Regent Park, Harbourfront</td>\n",
              "      <td>43.654260</td>\n",
              "      <td>-79.360636</td>\n",
              "      <td>Morning Glory Cafe</td>\n",
              "      <td>43.653947</td>\n",
              "      <td>-79.361149</td>\n",
              "      <td>Breakfast Spot</td>\n",
              "    </tr>\n",
              "    <tr>\n",
              "      <th>3</th>\n",
              "      <td>Regent Park, Harbourfront</td>\n",
              "      <td>43.654260</td>\n",
              "      <td>-79.360636</td>\n",
              "      <td>Cooper Koo Family YMCA</td>\n",
              "      <td>43.653249</td>\n",
              "      <td>-79.358008</td>\n",
              "      <td>Distribution Center</td>\n",
              "    </tr>\n",
              "    <tr>\n",
              "      <th>4</th>\n",
              "      <td>Regent Park, Harbourfront</td>\n",
              "      <td>43.654260</td>\n",
              "      <td>-79.360636</td>\n",
              "      <td>Body Blitz Spa East</td>\n",
              "      <td>43.654735</td>\n",
              "      <td>-79.359874</td>\n",
              "      <td>Spa</td>\n",
              "    </tr>\n",
              "    <tr>\n",
              "      <th>...</th>\n",
              "      <td>...</td>\n",
              "      <td>...</td>\n",
              "      <td>...</td>\n",
              "      <td>...</td>\n",
              "      <td>...</td>\n",
              "      <td>...</td>\n",
              "      <td>...</td>\n",
              "    </tr>\n",
              "    <tr>\n",
              "      <th>1597</th>\n",
              "      <td>Business reply mail Processing Centre</td>\n",
              "      <td>43.662744</td>\n",
              "      <td>-79.321558</td>\n",
              "      <td>Jonathan Ashbridge Park</td>\n",
              "      <td>43.664702</td>\n",
              "      <td>-79.319898</td>\n",
              "      <td>Park</td>\n",
              "    </tr>\n",
              "    <tr>\n",
              "      <th>1598</th>\n",
              "      <td>Business reply mail Processing Centre</td>\n",
              "      <td>43.662744</td>\n",
              "      <td>-79.321558</td>\n",
              "      <td>Olliffe On Queen</td>\n",
              "      <td>43.664503</td>\n",
              "      <td>-79.324768</td>\n",
              "      <td>Butcher</td>\n",
              "    </tr>\n",
              "    <tr>\n",
              "      <th>1599</th>\n",
              "      <td>Business reply mail Processing Centre</td>\n",
              "      <td>43.662744</td>\n",
              "      <td>-79.321558</td>\n",
              "      <td>Greenwood Cigar &amp; Variety</td>\n",
              "      <td>43.664538</td>\n",
              "      <td>-79.325379</td>\n",
              "      <td>Smoke Shop</td>\n",
              "    </tr>\n",
              "    <tr>\n",
              "      <th>1600</th>\n",
              "      <td>Business reply mail Processing Centre</td>\n",
              "      <td>43.662744</td>\n",
              "      <td>-79.321558</td>\n",
              "      <td>Revolution Recording</td>\n",
              "      <td>43.662561</td>\n",
              "      <td>-79.326940</td>\n",
              "      <td>Recording Studio</td>\n",
              "    </tr>\n",
              "    <tr>\n",
              "      <th>1601</th>\n",
              "      <td>Business reply mail Processing Centre</td>\n",
              "      <td>43.662744</td>\n",
              "      <td>-79.321558</td>\n",
              "      <td>ONE Academy</td>\n",
              "      <td>43.662253</td>\n",
              "      <td>-79.326911</td>\n",
              "      <td>Gym / Fitness Center</td>\n",
              "    </tr>\n",
              "  </tbody>\n",
              "</table>\n",
              "<p>1602 rows × 7 columns</p>\n",
              "</div>"
            ],
            "text/plain": [
              "                               Neighborhood  ...        Venue Category\n",
              "0                 Regent Park, Harbourfront  ...                Bakery\n",
              "1                 Regent Park, Harbourfront  ...           Coffee Shop\n",
              "2                 Regent Park, Harbourfront  ...        Breakfast Spot\n",
              "3                 Regent Park, Harbourfront  ...   Distribution Center\n",
              "4                 Regent Park, Harbourfront  ...                   Spa\n",
              "...                                     ...  ...                   ...\n",
              "1597  Business reply mail Processing Centre  ...                  Park\n",
              "1598  Business reply mail Processing Centre  ...               Butcher\n",
              "1599  Business reply mail Processing Centre  ...            Smoke Shop\n",
              "1600  Business reply mail Processing Centre  ...      Recording Studio\n",
              "1601  Business reply mail Processing Centre  ...  Gym / Fitness Center\n",
              "\n",
              "[1602 rows x 7 columns]"
            ]
          },
          "metadata": {
            "tags": []
          },
          "execution_count": 200
        }
      ]
    },
    {
      "cell_type": "code",
      "metadata": {
        "id": "kLvAW4mIhasv",
        "colab_type": "code",
        "colab": {
          "base_uri": "https://localhost:8080/",
          "height": 34
        },
        "outputId": "33a3fc35-4c93-4178-8c0e-2f51eab97bf4"
      },
      "source": [
        "len(set(t_ven['Venue Category']))"
      ],
      "execution_count": 201,
      "outputs": [
        {
          "output_type": "execute_result",
          "data": {
            "text/plain": [
              "235"
            ]
          },
          "metadata": {
            "tags": []
          },
          "execution_count": 201
        }
      ]
    },
    {
      "cell_type": "markdown",
      "metadata": {
        "id": "tkbJAYqnjwqj",
        "colab_type": "text"
      },
      "source": [
        "# Add neighborhood to the oh encoded dataframe and bringing it to the front"
      ]
    },
    {
      "cell_type": "code",
      "metadata": {
        "id": "LFTBDGkMiY28",
        "colab_type": "code",
        "colab": {}
      },
      "source": [
        "t_ven_oh = pd.get_dummies(t_ven[['Venue Category']], prefix =\"\", prefix_sep=\"\")\n",
        "t_ven_oh.drop([\"Neighborhood\"],axis=1,inplace=True)\n",
        "t_ven_oh['Neighborhood'] = t_ven['Neighborhood'] "
      ],
      "execution_count": 0,
      "outputs": []
    },
    {
      "cell_type": "code",
      "metadata": {
        "id": "kgrri1xHk96I",
        "colab_type": "code",
        "colab": {}
      },
      "source": [
        "cols = [t_ven_oh.columns[-1]]+ list(t_ven_oh.columns[:-1])\n",
        "t_ven_oh = t_ven_oh[cols]"
      ],
      "execution_count": 0,
      "outputs": []
    },
    {
      "cell_type": "code",
      "metadata": {
        "id": "bxOkpawz4S7p",
        "colab_type": "code",
        "colab": {}
      },
      "source": [
        "t_gr = t_ven_oh.groupby('Neighborhood').mean().reset_index()"
      ],
      "execution_count": 0,
      "outputs": []
    },
    {
      "cell_type": "markdown",
      "metadata": {
        "id": "1O_ei1SD_8wj",
        "colab_type": "text"
      },
      "source": [
        "# Finding the top 5 commom venues in a neighborhood"
      ]
    },
    {
      "cell_type": "code",
      "metadata": {
        "id": "Adw9dLav5WD3",
        "colab_type": "code",
        "colab": {}
      },
      "source": [
        "num_top_venues = 5\n",
        "\n",
        "for hood in t_gr['Neighborhood']:\n",
        "    print(\"----\"+hood+\"----\")\n",
        "    temp = t_gr[t_gr['Neighborhood'] == hood].T.reset_index()\n",
        "    temp.columns = ['venue','freq']\n",
        "    temp = temp.iloc[1:]\n",
        "    temp['freq'] = temp['freq'].astype(float)\n",
        "    temp = temp.round({'freq': 2})\n",
        "    print(temp.sort_values('freq', ascending=False).reset_index(drop=True).head(num_top_venues))\n",
        "    print('\\n')"
      ],
      "execution_count": 0,
      "outputs": []
    },
    {
      "cell_type": "markdown",
      "metadata": {
        "id": "JNcgDgU3AcRQ",
        "colab_type": "text"
      },
      "source": [
        "# Find top 10 common venues in a neighborhood and convert it to a Dataframe"
      ]
    },
    {
      "cell_type": "code",
      "metadata": {
        "id": "QK7jFKEH7Rjk",
        "colab_type": "code",
        "colab": {}
      },
      "source": [
        "def return_most_common_venues(row, num_top_venues):\n",
        "    row_categories = row.iloc[1:]\n",
        "    row_categories_sorted = row_categories.sort_values(ascending=False)\n",
        "    \n",
        "    return row_categories_sorted.index.values[0:num_top_venues]"
      ],
      "execution_count": 0,
      "outputs": []
    },
    {
      "cell_type": "code",
      "metadata": {
        "id": "wVriTeb18eoA",
        "colab_type": "code",
        "colab": {
          "base_uri": "https://localhost:8080/",
          "height": 296
        },
        "outputId": "b9b52564-ab15-4ef1-ba80-f63e03cdb8ed"
      },
      "source": [
        "num_top_venues = 10\n",
        "\n",
        "indicators = ['st', 'nd', 'rd']\n",
        "\n",
        "# create columns according to number of top venues\n",
        "columns = ['Neighborhood']\n",
        "for ind in np.arange(num_top_venues):\n",
        "    try:\n",
        "        columns.append('{}{} Most Common Venue'.format(ind+1, indicators[ind]))\n",
        "    except:\n",
        "        columns.append('{}th Most Common Venue'.format(ind+1))\n",
        "\n",
        "# create a new dataframe\n",
        "neighborhoods_venues_sorted = pd.DataFrame(columns=columns)\n",
        "neighborhoods_venues_sorted['Neighborhood'] = t_gr['Neighborhood']\n",
        "\n",
        "for ind in np.arange(t_gr.shape[0]):\n",
        "    neighborhoods_venues_sorted.iloc[ind, 1:] = return_most_common_venues(t_gr.iloc[ind, :], num_top_venues)\n",
        "\n",
        "neighborhoods_venues_sorted.head()"
      ],
      "execution_count": 213,
      "outputs": [
        {
          "output_type": "execute_result",
          "data": {
            "text/html": [
              "<div>\n",
              "<style scoped>\n",
              "    .dataframe tbody tr th:only-of-type {\n",
              "        vertical-align: middle;\n",
              "    }\n",
              "\n",
              "    .dataframe tbody tr th {\n",
              "        vertical-align: top;\n",
              "    }\n",
              "\n",
              "    .dataframe thead th {\n",
              "        text-align: right;\n",
              "    }\n",
              "</style>\n",
              "<table border=\"1\" class=\"dataframe\">\n",
              "  <thead>\n",
              "    <tr style=\"text-align: right;\">\n",
              "      <th></th>\n",
              "      <th>Neighborhood</th>\n",
              "      <th>1st Most Common Venue</th>\n",
              "      <th>2nd Most Common Venue</th>\n",
              "      <th>3rd Most Common Venue</th>\n",
              "      <th>4th Most Common Venue</th>\n",
              "      <th>5th Most Common Venue</th>\n",
              "      <th>6th Most Common Venue</th>\n",
              "      <th>7th Most Common Venue</th>\n",
              "      <th>8th Most Common Venue</th>\n",
              "      <th>9th Most Common Venue</th>\n",
              "      <th>10th Most Common Venue</th>\n",
              "    </tr>\n",
              "  </thead>\n",
              "  <tbody>\n",
              "    <tr>\n",
              "      <th>0</th>\n",
              "      <td>Berczy Park</td>\n",
              "      <td>Coffee Shop</td>\n",
              "      <td>Cocktail Bar</td>\n",
              "      <td>Beer Bar</td>\n",
              "      <td>Café</td>\n",
              "      <td>Restaurant</td>\n",
              "      <td>Cheese Shop</td>\n",
              "      <td>Seafood Restaurant</td>\n",
              "      <td>Bakery</td>\n",
              "      <td>Jazz Club</td>\n",
              "      <td>Hotel</td>\n",
              "    </tr>\n",
              "    <tr>\n",
              "      <th>1</th>\n",
              "      <td>Brockton, Parkdale Village, Exhibition Place</td>\n",
              "      <td>Café</td>\n",
              "      <td>Nightclub</td>\n",
              "      <td>Breakfast Spot</td>\n",
              "      <td>Coffee Shop</td>\n",
              "      <td>Pet Store</td>\n",
              "      <td>Stadium</td>\n",
              "      <td>Burrito Place</td>\n",
              "      <td>Restaurant</td>\n",
              "      <td>Climbing Gym</td>\n",
              "      <td>Yoga Studio</td>\n",
              "    </tr>\n",
              "    <tr>\n",
              "      <th>2</th>\n",
              "      <td>Business reply mail Processing Centre</td>\n",
              "      <td>Light Rail Station</td>\n",
              "      <td>Smoke Shop</td>\n",
              "      <td>Recording Studio</td>\n",
              "      <td>Fast Food Restaurant</td>\n",
              "      <td>Farmers Market</td>\n",
              "      <td>Auto Workshop</td>\n",
              "      <td>Burrito Place</td>\n",
              "      <td>Restaurant</td>\n",
              "      <td>Pizza Place</td>\n",
              "      <td>Brewery</td>\n",
              "    </tr>\n",
              "    <tr>\n",
              "      <th>3</th>\n",
              "      <td>CN Tower, King and Spadina, Railway Lands, Har...</td>\n",
              "      <td>Airport Service</td>\n",
              "      <td>Airport Lounge</td>\n",
              "      <td>Airport Terminal</td>\n",
              "      <td>Coffee Shop</td>\n",
              "      <td>Harbor / Marina</td>\n",
              "      <td>Plane</td>\n",
              "      <td>Rental Car Location</td>\n",
              "      <td>Sculpture Garden</td>\n",
              "      <td>Boutique</td>\n",
              "      <td>Boat or Ferry</td>\n",
              "    </tr>\n",
              "    <tr>\n",
              "      <th>4</th>\n",
              "      <td>Central Bay Street</td>\n",
              "      <td>Coffee Shop</td>\n",
              "      <td>Italian Restaurant</td>\n",
              "      <td>Sandwich Place</td>\n",
              "      <td>Café</td>\n",
              "      <td>Burger Joint</td>\n",
              "      <td>Bar</td>\n",
              "      <td>Ice Cream Shop</td>\n",
              "      <td>Japanese Restaurant</td>\n",
              "      <td>Salad Place</td>\n",
              "      <td>Bubble Tea Shop</td>\n",
              "    </tr>\n",
              "  </tbody>\n",
              "</table>\n",
              "</div>"
            ],
            "text/plain": [
              "                                        Neighborhood  ... 10th Most Common Venue\n",
              "0                                        Berczy Park  ...                  Hotel\n",
              "1       Brockton, Parkdale Village, Exhibition Place  ...            Yoga Studio\n",
              "2              Business reply mail Processing Centre  ...                Brewery\n",
              "3  CN Tower, King and Spadina, Railway Lands, Har...  ...          Boat or Ferry\n",
              "4                                 Central Bay Street  ...        Bubble Tea Shop\n",
              "\n",
              "[5 rows x 11 columns]"
            ]
          },
          "metadata": {
            "tags": []
          },
          "execution_count": 213
        }
      ]
    },
    {
      "cell_type": "markdown",
      "metadata": {
        "id": "kC_UVIeH_164",
        "colab_type": "text"
      },
      "source": [
        "# Clustering"
      ]
    },
    {
      "cell_type": "code",
      "metadata": {
        "id": "AOmzmvfS8oX1",
        "colab_type": "code",
        "colab": {
          "base_uri": "https://localhost:8080/",
          "height": 866
        },
        "outputId": "47f30898-008d-4b98-d3ba-96739ed45347"
      },
      "source": [
        "# set number of clusters\n",
        "kclusters = 5\n",
        "\n",
        "t_gr_clustering = t_gr.drop('Neighborhood', 1)\n",
        "\n",
        "# run k-means clustering\n",
        "kmeans = KMeans(n_clusters=kclusters, random_state=0).fit(t_gr_clustering)\n",
        "\n",
        "# check cluster labels generated for each row in the dataframe\n",
        "kmeans.labels_[0:10] \n",
        "\n",
        "# add clustering labels\n",
        "#neighborhoods_venues_sorted.insert(0, 'Cluster Labels', kmeans.labels_)\n",
        "\n",
        "t_merged = final1\n",
        "\n",
        "# merge toronto_grouped with toronto_data to add latitude/longitude for each neighborhood\n",
        "t_merged = t_merged.join(neighborhoods_venues_sorted.set_index('Neighborhood'), on='Neighborhood')\n",
        "\n",
        "t_merged.head() # check the last columns!\n",
        "\n",
        "# create map\n",
        "map_clusters = folium.Map(location=[lat, long], zoom_start=11)\n",
        "\n",
        "# set color scheme for the clusters\n",
        "x = np.arange(kclusters)\n",
        "ys = [i + x + (i*x)**2 for i in range(kclusters)]\n",
        "colors_array = cm.rainbow(np.linspace(0, 1, len(ys)))\n",
        "rainbow = [colors.rgb2hex(i) for i in colors_array]\n",
        "\n",
        "# add markers to the map\n",
        "markers_colors = []\n",
        "for lat, lon, poi, cluster in zip(t_merged['Latitude'], t_merged['Longitude'], t_merged['Neighborhood'], t_merged['Cluster Labels']):\n",
        "    label = folium.Popup(str(poi) + ' Cluster ' + str(cluster), parse_html=True)\n",
        "    folium.CircleMarker(\n",
        "        [lat, lon],\n",
        "        radius=5,\n",
        "        popup=label,\n",
        "        color=rainbow[cluster-1],\n",
        "        fill=True,\n",
        "        fill_color=rainbow[cluster-1],\n",
        "        fill_opacity=0.7).add_to(map_clusters)\n",
        "       \n",
        "map_clusters"
      ],
      "execution_count": 218,
      "outputs": [
        {
          "output_type": "execute_result",
          "data": {
            "text/html": [
              "<div style=\"width:100%;\"><div style=\"position:relative;width:100%;height:0;padding-bottom:60%;\"><span style=\"color:#565656\">Make this Notebook Trusted to load map: File -> Trust Notebook</span><iframe src=\"about:blank\" style=\"position:absolute;width:100%;height:100%;left:0;top:0;border:none !important;\" data-html=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 onload=\"this.contentDocument.open();this.contentDocument.write(atob(this.getAttribute('data-html')));this.contentDocument.close();\" allowfullscreen webkitallowfullscreen mozallowfullscreen></iframe></div></div>"
            ],
            "text/plain": [
              "<folium.folium.Map at 0x7f3d01977eb8>"
            ]
          },
          "metadata": {
            "tags": []
          },
          "execution_count": 218
        }
      ]
    },
    {
      "cell_type": "markdown",
      "metadata": {
        "id": "8Fsp4_iXAofA",
        "colab_type": "text"
      },
      "source": [
        "# Exploring clusters"
      ]
    },
    {
      "cell_type": "code",
      "metadata": {
        "id": "b2kaFqsm90lG",
        "colab_type": "code",
        "colab": {
          "base_uri": "https://localhost:8080/",
          "height": 1000
        },
        "outputId": "92b0a617-aa2b-466c-e194-c5cf0ca0e275"
      },
      "source": [
        "t_merged.loc[t_merged['Cluster Labels'] == 0, t_merged.columns[[1] + list(range(5, t_merged.shape[1]))]]"
      ],
      "execution_count": 224,
      "outputs": [
        {
          "output_type": "execute_result",
          "data": {
            "text/html": [
              "<div>\n",
              "<style scoped>\n",
              "    .dataframe tbody tr th:only-of-type {\n",
              "        vertical-align: middle;\n",
              "    }\n",
              "\n",
              "    .dataframe tbody tr th {\n",
              "        vertical-align: top;\n",
              "    }\n",
              "\n",
              "    .dataframe thead th {\n",
              "        text-align: right;\n",
              "    }\n",
              "</style>\n",
              "<table border=\"1\" class=\"dataframe\">\n",
              "  <thead>\n",
              "    <tr style=\"text-align: right;\">\n",
              "      <th></th>\n",
              "      <th>Borough</th>\n",
              "      <th>Cluster Labels</th>\n",
              "      <th>1st Most Common Venue</th>\n",
              "      <th>2nd Most Common Venue</th>\n",
              "      <th>3rd Most Common Venue</th>\n",
              "      <th>4th Most Common Venue</th>\n",
              "      <th>5th Most Common Venue</th>\n",
              "      <th>6th Most Common Venue</th>\n",
              "      <th>7th Most Common Venue</th>\n",
              "      <th>8th Most Common Venue</th>\n",
              "      <th>9th Most Common Venue</th>\n",
              "      <th>10th Most Common Venue</th>\n",
              "    </tr>\n",
              "  </thead>\n",
              "  <tbody>\n",
              "    <tr>\n",
              "      <th>0</th>\n",
              "      <td>Downtown Toronto</td>\n",
              "      <td>0</td>\n",
              "      <td>Coffee Shop</td>\n",
              "      <td>Bakery</td>\n",
              "      <td>Park</td>\n",
              "      <td>Breakfast Spot</td>\n",
              "      <td>Café</td>\n",
              "      <td>Pub</td>\n",
              "      <td>Theater</td>\n",
              "      <td>Yoga Studio</td>\n",
              "      <td>Mexican Restaurant</td>\n",
              "      <td>Shoe Store</td>\n",
              "    </tr>\n",
              "    <tr>\n",
              "      <th>1</th>\n",
              "      <td>Downtown Toronto</td>\n",
              "      <td>0</td>\n",
              "      <td>Coffee Shop</td>\n",
              "      <td>College Cafeteria</td>\n",
              "      <td>Sushi Restaurant</td>\n",
              "      <td>Yoga Studio</td>\n",
              "      <td>Burrito Place</td>\n",
              "      <td>Bar</td>\n",
              "      <td>Beer Bar</td>\n",
              "      <td>Smoothie Shop</td>\n",
              "      <td>Italian Restaurant</td>\n",
              "      <td>Sandwich Place</td>\n",
              "    </tr>\n",
              "    <tr>\n",
              "      <th>2</th>\n",
              "      <td>Downtown Toronto</td>\n",
              "      <td>0</td>\n",
              "      <td>Clothing Store</td>\n",
              "      <td>Coffee Shop</td>\n",
              "      <td>Café</td>\n",
              "      <td>Cosmetics Shop</td>\n",
              "      <td>Bubble Tea Shop</td>\n",
              "      <td>Japanese Restaurant</td>\n",
              "      <td>Italian Restaurant</td>\n",
              "      <td>Restaurant</td>\n",
              "      <td>Middle Eastern Restaurant</td>\n",
              "      <td>Tea Room</td>\n",
              "    </tr>\n",
              "    <tr>\n",
              "      <th>3</th>\n",
              "      <td>Downtown Toronto</td>\n",
              "      <td>0</td>\n",
              "      <td>Café</td>\n",
              "      <td>Coffee Shop</td>\n",
              "      <td>Cocktail Bar</td>\n",
              "      <td>American Restaurant</td>\n",
              "      <td>Gastropub</td>\n",
              "      <td>Italian Restaurant</td>\n",
              "      <td>Restaurant</td>\n",
              "      <td>Department Store</td>\n",
              "      <td>Clothing Store</td>\n",
              "      <td>Theater</td>\n",
              "    </tr>\n",
              "    <tr>\n",
              "      <th>4</th>\n",
              "      <td>East Toronto</td>\n",
              "      <td>0</td>\n",
              "      <td>Trail</td>\n",
              "      <td>Pub</td>\n",
              "      <td>Health Food Store</td>\n",
              "      <td>Distribution Center</td>\n",
              "      <td>Deli / Bodega</td>\n",
              "      <td>Department Store</td>\n",
              "      <td>Dessert Shop</td>\n",
              "      <td>Diner</td>\n",
              "      <td>Discount Store</td>\n",
              "      <td>Yoga Studio</td>\n",
              "    </tr>\n",
              "    <tr>\n",
              "      <th>5</th>\n",
              "      <td>Downtown Toronto</td>\n",
              "      <td>0</td>\n",
              "      <td>Coffee Shop</td>\n",
              "      <td>Cocktail Bar</td>\n",
              "      <td>Beer Bar</td>\n",
              "      <td>Café</td>\n",
              "      <td>Restaurant</td>\n",
              "      <td>Cheese Shop</td>\n",
              "      <td>Seafood Restaurant</td>\n",
              "      <td>Bakery</td>\n",
              "      <td>Jazz Club</td>\n",
              "      <td>Hotel</td>\n",
              "    </tr>\n",
              "    <tr>\n",
              "      <th>6</th>\n",
              "      <td>Downtown Toronto</td>\n",
              "      <td>0</td>\n",
              "      <td>Coffee Shop</td>\n",
              "      <td>Italian Restaurant</td>\n",
              "      <td>Sandwich Place</td>\n",
              "      <td>Café</td>\n",
              "      <td>Burger Joint</td>\n",
              "      <td>Bar</td>\n",
              "      <td>Ice Cream Shop</td>\n",
              "      <td>Japanese Restaurant</td>\n",
              "      <td>Salad Place</td>\n",
              "      <td>Bubble Tea Shop</td>\n",
              "    </tr>\n",
              "    <tr>\n",
              "      <th>7</th>\n",
              "      <td>Downtown Toronto</td>\n",
              "      <td>0</td>\n",
              "      <td>Grocery Store</td>\n",
              "      <td>Café</td>\n",
              "      <td>Park</td>\n",
              "      <td>Baby Store</td>\n",
              "      <td>Restaurant</td>\n",
              "      <td>Coffee Shop</td>\n",
              "      <td>Candy Store</td>\n",
              "      <td>Nightclub</td>\n",
              "      <td>Diner</td>\n",
              "      <td>Italian Restaurant</td>\n",
              "    </tr>\n",
              "    <tr>\n",
              "      <th>8</th>\n",
              "      <td>Downtown Toronto</td>\n",
              "      <td>0</td>\n",
              "      <td>Coffee Shop</td>\n",
              "      <td>Café</td>\n",
              "      <td>Restaurant</td>\n",
              "      <td>Clothing Store</td>\n",
              "      <td>Deli / Bodega</td>\n",
              "      <td>Hotel</td>\n",
              "      <td>Thai Restaurant</td>\n",
              "      <td>Gym</td>\n",
              "      <td>Salad Place</td>\n",
              "      <td>Sushi Restaurant</td>\n",
              "    </tr>\n",
              "    <tr>\n",
              "      <th>9</th>\n",
              "      <td>West Toronto</td>\n",
              "      <td>0</td>\n",
              "      <td>Bakery</td>\n",
              "      <td>Pharmacy</td>\n",
              "      <td>Bank</td>\n",
              "      <td>Bar</td>\n",
              "      <td>Café</td>\n",
              "      <td>Pool</td>\n",
              "      <td>Bus Stop</td>\n",
              "      <td>Supermarket</td>\n",
              "      <td>Middle Eastern Restaurant</td>\n",
              "      <td>Music Venue</td>\n",
              "    </tr>\n",
              "    <tr>\n",
              "      <th>10</th>\n",
              "      <td>Downtown Toronto</td>\n",
              "      <td>0</td>\n",
              "      <td>Coffee Shop</td>\n",
              "      <td>Aquarium</td>\n",
              "      <td>Hotel</td>\n",
              "      <td>Café</td>\n",
              "      <td>Italian Restaurant</td>\n",
              "      <td>Fried Chicken Joint</td>\n",
              "      <td>Brewery</td>\n",
              "      <td>Restaurant</td>\n",
              "      <td>Scenic Lookout</td>\n",
              "      <td>Sporting Goods Shop</td>\n",
              "    </tr>\n",
              "    <tr>\n",
              "      <th>11</th>\n",
              "      <td>West Toronto</td>\n",
              "      <td>0</td>\n",
              "      <td>Bar</td>\n",
              "      <td>Restaurant</td>\n",
              "      <td>Men's Store</td>\n",
              "      <td>Asian Restaurant</td>\n",
              "      <td>Vietnamese Restaurant</td>\n",
              "      <td>Vegetarian / Vegan Restaurant</td>\n",
              "      <td>Café</td>\n",
              "      <td>Yoga Studio</td>\n",
              "      <td>Japanese Restaurant</td>\n",
              "      <td>Juice Bar</td>\n",
              "    </tr>\n",
              "    <tr>\n",
              "      <th>12</th>\n",
              "      <td>East Toronto</td>\n",
              "      <td>0</td>\n",
              "      <td>Greek Restaurant</td>\n",
              "      <td>Coffee Shop</td>\n",
              "      <td>Italian Restaurant</td>\n",
              "      <td>Ice Cream Shop</td>\n",
              "      <td>Furniture / Home Store</td>\n",
              "      <td>Restaurant</td>\n",
              "      <td>Bubble Tea Shop</td>\n",
              "      <td>Bakery</td>\n",
              "      <td>Pub</td>\n",
              "      <td>Pizza Place</td>\n",
              "    </tr>\n",
              "    <tr>\n",
              "      <th>13</th>\n",
              "      <td>Downtown Toronto</td>\n",
              "      <td>0</td>\n",
              "      <td>Coffee Shop</td>\n",
              "      <td>Café</td>\n",
              "      <td>Hotel</td>\n",
              "      <td>Restaurant</td>\n",
              "      <td>Salad Place</td>\n",
              "      <td>Italian Restaurant</td>\n",
              "      <td>Seafood Restaurant</td>\n",
              "      <td>American Restaurant</td>\n",
              "      <td>Japanese Restaurant</td>\n",
              "      <td>Beer Bar</td>\n",
              "    </tr>\n",
              "    <tr>\n",
              "      <th>14</th>\n",
              "      <td>West Toronto</td>\n",
              "      <td>0</td>\n",
              "      <td>Café</td>\n",
              "      <td>Nightclub</td>\n",
              "      <td>Breakfast Spot</td>\n",
              "      <td>Coffee Shop</td>\n",
              "      <td>Pet Store</td>\n",
              "      <td>Stadium</td>\n",
              "      <td>Burrito Place</td>\n",
              "      <td>Restaurant</td>\n",
              "      <td>Climbing Gym</td>\n",
              "      <td>Yoga Studio</td>\n",
              "    </tr>\n",
              "    <tr>\n",
              "      <th>15</th>\n",
              "      <td>East Toronto</td>\n",
              "      <td>0</td>\n",
              "      <td>Park</td>\n",
              "      <td>Fast Food Restaurant</td>\n",
              "      <td>Board Shop</td>\n",
              "      <td>Food &amp; Drink Shop</td>\n",
              "      <td>Sandwich Place</td>\n",
              "      <td>Liquor Store</td>\n",
              "      <td>Burrito Place</td>\n",
              "      <td>Italian Restaurant</td>\n",
              "      <td>Restaurant</td>\n",
              "      <td>Ice Cream Shop</td>\n",
              "    </tr>\n",
              "    <tr>\n",
              "      <th>16</th>\n",
              "      <td>Downtown Toronto</td>\n",
              "      <td>0</td>\n",
              "      <td>Coffee Shop</td>\n",
              "      <td>Restaurant</td>\n",
              "      <td>Café</td>\n",
              "      <td>Hotel</td>\n",
              "      <td>American Restaurant</td>\n",
              "      <td>Gym</td>\n",
              "      <td>Deli / Bodega</td>\n",
              "      <td>Italian Restaurant</td>\n",
              "      <td>Japanese Restaurant</td>\n",
              "      <td>Seafood Restaurant</td>\n",
              "    </tr>\n",
              "    <tr>\n",
              "      <th>17</th>\n",
              "      <td>East Toronto</td>\n",
              "      <td>0</td>\n",
              "      <td>Café</td>\n",
              "      <td>Coffee Shop</td>\n",
              "      <td>Gastropub</td>\n",
              "      <td>Bakery</td>\n",
              "      <td>Brewery</td>\n",
              "      <td>American Restaurant</td>\n",
              "      <td>Yoga Studio</td>\n",
              "      <td>Seafood Restaurant</td>\n",
              "      <td>Sandwich Place</td>\n",
              "      <td>Cheese Shop</td>\n",
              "    </tr>\n",
              "    <tr>\n",
              "      <th>20</th>\n",
              "      <td>Central Toronto</td>\n",
              "      <td>0</td>\n",
              "      <td>Park</td>\n",
              "      <td>Breakfast Spot</td>\n",
              "      <td>Hotel</td>\n",
              "      <td>Food &amp; Drink Shop</td>\n",
              "      <td>Sandwich Place</td>\n",
              "      <td>Department Store</td>\n",
              "      <td>Gym / Fitness Center</td>\n",
              "      <td>Gym</td>\n",
              "      <td>Doner Restaurant</td>\n",
              "      <td>Deli / Bodega</td>\n",
              "    </tr>\n",
              "    <tr>\n",
              "      <th>22</th>\n",
              "      <td>West Toronto</td>\n",
              "      <td>0</td>\n",
              "      <td>Thai Restaurant</td>\n",
              "      <td>Café</td>\n",
              "      <td>Mexican Restaurant</td>\n",
              "      <td>Cajun / Creole Restaurant</td>\n",
              "      <td>Flea Market</td>\n",
              "      <td>Bakery</td>\n",
              "      <td>Speakeasy</td>\n",
              "      <td>Italian Restaurant</td>\n",
              "      <td>Fried Chicken Joint</td>\n",
              "      <td>Arts &amp; Crafts Store</td>\n",
              "    </tr>\n",
              "    <tr>\n",
              "      <th>23</th>\n",
              "      <td>Central Toronto</td>\n",
              "      <td>0</td>\n",
              "      <td>Coffee Shop</td>\n",
              "      <td>Clothing Store</td>\n",
              "      <td>Yoga Studio</td>\n",
              "      <td>Rental Car Location</td>\n",
              "      <td>Diner</td>\n",
              "      <td>Dessert Shop</td>\n",
              "      <td>Spa</td>\n",
              "      <td>Sporting Goods Shop</td>\n",
              "      <td>Salon / Barbershop</td>\n",
              "      <td>Fast Food Restaurant</td>\n",
              "    </tr>\n",
              "    <tr>\n",
              "      <th>24</th>\n",
              "      <td>Central Toronto</td>\n",
              "      <td>0</td>\n",
              "      <td>Sandwich Place</td>\n",
              "      <td>Café</td>\n",
              "      <td>Coffee Shop</td>\n",
              "      <td>Cosmetics Shop</td>\n",
              "      <td>Liquor Store</td>\n",
              "      <td>Burger Joint</td>\n",
              "      <td>Indian Restaurant</td>\n",
              "      <td>Flower Shop</td>\n",
              "      <td>Middle Eastern Restaurant</td>\n",
              "      <td>Pub</td>\n",
              "    </tr>\n",
              "    <tr>\n",
              "      <th>25</th>\n",
              "      <td>West Toronto</td>\n",
              "      <td>0</td>\n",
              "      <td>Gift Shop</td>\n",
              "      <td>Breakfast Spot</td>\n",
              "      <td>Cuban Restaurant</td>\n",
              "      <td>Eastern European Restaurant</td>\n",
              "      <td>Dog Run</td>\n",
              "      <td>Italian Restaurant</td>\n",
              "      <td>Bar</td>\n",
              "      <td>Dessert Shop</td>\n",
              "      <td>Movie Theater</td>\n",
              "      <td>Restaurant</td>\n",
              "    </tr>\n",
              "    <tr>\n",
              "      <th>26</th>\n",
              "      <td>Central Toronto</td>\n",
              "      <td>0</td>\n",
              "      <td>Pizza Place</td>\n",
              "      <td>Sandwich Place</td>\n",
              "      <td>Dessert Shop</td>\n",
              "      <td>Sushi Restaurant</td>\n",
              "      <td>Coffee Shop</td>\n",
              "      <td>Gym</td>\n",
              "      <td>Italian Restaurant</td>\n",
              "      <td>Café</td>\n",
              "      <td>Greek Restaurant</td>\n",
              "      <td>Brewery</td>\n",
              "    </tr>\n",
              "    <tr>\n",
              "      <th>27</th>\n",
              "      <td>Downtown Toronto</td>\n",
              "      <td>0</td>\n",
              "      <td>Café</td>\n",
              "      <td>Bookstore</td>\n",
              "      <td>Japanese Restaurant</td>\n",
              "      <td>Bar</td>\n",
              "      <td>Italian Restaurant</td>\n",
              "      <td>Restaurant</td>\n",
              "      <td>Bakery</td>\n",
              "      <td>Pub</td>\n",
              "      <td>Chinese Restaurant</td>\n",
              "      <td>Sushi Restaurant</td>\n",
              "    </tr>\n",
              "    <tr>\n",
              "      <th>28</th>\n",
              "      <td>West Toronto</td>\n",
              "      <td>0</td>\n",
              "      <td>Café</td>\n",
              "      <td>Italian Restaurant</td>\n",
              "      <td>Bookstore</td>\n",
              "      <td>Pub</td>\n",
              "      <td>Sushi Restaurant</td>\n",
              "      <td>Pizza Place</td>\n",
              "      <td>Coffee Shop</td>\n",
              "      <td>Dessert Shop</td>\n",
              "      <td>Diner</td>\n",
              "      <td>Burrito Place</td>\n",
              "    </tr>\n",
              "    <tr>\n",
              "      <th>30</th>\n",
              "      <td>Downtown Toronto</td>\n",
              "      <td>0</td>\n",
              "      <td>Café</td>\n",
              "      <td>Vietnamese Restaurant</td>\n",
              "      <td>Dessert Shop</td>\n",
              "      <td>Bakery</td>\n",
              "      <td>Mexican Restaurant</td>\n",
              "      <td>Coffee Shop</td>\n",
              "      <td>Bar</td>\n",
              "      <td>Gaming Cafe</td>\n",
              "      <td>Vegetarian / Vegan Restaurant</td>\n",
              "      <td>Pizza Place</td>\n",
              "    </tr>\n",
              "    <tr>\n",
              "      <th>31</th>\n",
              "      <td>Central Toronto</td>\n",
              "      <td>0</td>\n",
              "      <td>Pub</td>\n",
              "      <td>Coffee Shop</td>\n",
              "      <td>Pizza Place</td>\n",
              "      <td>Bagel Shop</td>\n",
              "      <td>Supermarket</td>\n",
              "      <td>Sushi Restaurant</td>\n",
              "      <td>Sports Bar</td>\n",
              "      <td>Athletics &amp; Sports</td>\n",
              "      <td>Fried Chicken Joint</td>\n",
              "      <td>Bank</td>\n",
              "    </tr>\n",
              "    <tr>\n",
              "      <th>32</th>\n",
              "      <td>Downtown Toronto</td>\n",
              "      <td>0</td>\n",
              "      <td>Airport Service</td>\n",
              "      <td>Airport Lounge</td>\n",
              "      <td>Airport Terminal</td>\n",
              "      <td>Coffee Shop</td>\n",
              "      <td>Harbor / Marina</td>\n",
              "      <td>Plane</td>\n",
              "      <td>Rental Car Location</td>\n",
              "      <td>Sculpture Garden</td>\n",
              "      <td>Boutique</td>\n",
              "      <td>Boat or Ferry</td>\n",
              "    </tr>\n",
              "    <tr>\n",
              "      <th>34</th>\n",
              "      <td>Downtown Toronto</td>\n",
              "      <td>0</td>\n",
              "      <td>Coffee Shop</td>\n",
              "      <td>Café</td>\n",
              "      <td>Seafood Restaurant</td>\n",
              "      <td>Restaurant</td>\n",
              "      <td>Cocktail Bar</td>\n",
              "      <td>Beer Bar</td>\n",
              "      <td>Japanese Restaurant</td>\n",
              "      <td>Italian Restaurant</td>\n",
              "      <td>Hotel</td>\n",
              "      <td>Pub</td>\n",
              "    </tr>\n",
              "    <tr>\n",
              "      <th>35</th>\n",
              "      <td>Downtown Toronto</td>\n",
              "      <td>0</td>\n",
              "      <td>Bakery</td>\n",
              "      <td>Coffee Shop</td>\n",
              "      <td>Italian Restaurant</td>\n",
              "      <td>Café</td>\n",
              "      <td>Pub</td>\n",
              "      <td>Pizza Place</td>\n",
              "      <td>Chinese Restaurant</td>\n",
              "      <td>Park</td>\n",
              "      <td>Restaurant</td>\n",
              "      <td>Gift Shop</td>\n",
              "    </tr>\n",
              "    <tr>\n",
              "      <th>36</th>\n",
              "      <td>Downtown Toronto</td>\n",
              "      <td>0</td>\n",
              "      <td>Coffee Shop</td>\n",
              "      <td>Café</td>\n",
              "      <td>Restaurant</td>\n",
              "      <td>Japanese Restaurant</td>\n",
              "      <td>Gym</td>\n",
              "      <td>Hotel</td>\n",
              "      <td>American Restaurant</td>\n",
              "      <td>Seafood Restaurant</td>\n",
              "      <td>Steakhouse</td>\n",
              "      <td>Salad Place</td>\n",
              "    </tr>\n",
              "    <tr>\n",
              "      <th>37</th>\n",
              "      <td>Downtown Toronto</td>\n",
              "      <td>0</td>\n",
              "      <td>Coffee Shop</td>\n",
              "      <td>Japanese Restaurant</td>\n",
              "      <td>Sushi Restaurant</td>\n",
              "      <td>Restaurant</td>\n",
              "      <td>Pub</td>\n",
              "      <td>Men's Store</td>\n",
              "      <td>Mediterranean Restaurant</td>\n",
              "      <td>Hotel</td>\n",
              "      <td>Gay Bar</td>\n",
              "      <td>Gastropub</td>\n",
              "    </tr>\n",
              "    <tr>\n",
              "      <th>38</th>\n",
              "      <td>East Toronto</td>\n",
              "      <td>0</td>\n",
              "      <td>Light Rail Station</td>\n",
              "      <td>Smoke Shop</td>\n",
              "      <td>Recording Studio</td>\n",
              "      <td>Fast Food Restaurant</td>\n",
              "      <td>Farmers Market</td>\n",
              "      <td>Auto Workshop</td>\n",
              "      <td>Burrito Place</td>\n",
              "      <td>Restaurant</td>\n",
              "      <td>Pizza Place</td>\n",
              "      <td>Brewery</td>\n",
              "    </tr>\n",
              "  </tbody>\n",
              "</table>\n",
              "</div>"
            ],
            "text/plain": [
              "             Borough  ...  10th Most Common Venue\n",
              "0   Downtown Toronto  ...              Shoe Store\n",
              "1   Downtown Toronto  ...          Sandwich Place\n",
              "2   Downtown Toronto  ...                Tea Room\n",
              "3   Downtown Toronto  ...                 Theater\n",
              "4       East Toronto  ...             Yoga Studio\n",
              "5   Downtown Toronto  ...                   Hotel\n",
              "6   Downtown Toronto  ...         Bubble Tea Shop\n",
              "7   Downtown Toronto  ...      Italian Restaurant\n",
              "8   Downtown Toronto  ...        Sushi Restaurant\n",
              "9       West Toronto  ...             Music Venue\n",
              "10  Downtown Toronto  ...     Sporting Goods Shop\n",
              "11      West Toronto  ...               Juice Bar\n",
              "12      East Toronto  ...             Pizza Place\n",
              "13  Downtown Toronto  ...                Beer Bar\n",
              "14      West Toronto  ...             Yoga Studio\n",
              "15      East Toronto  ...          Ice Cream Shop\n",
              "16  Downtown Toronto  ...      Seafood Restaurant\n",
              "17      East Toronto  ...             Cheese Shop\n",
              "20   Central Toronto  ...           Deli / Bodega\n",
              "22      West Toronto  ...     Arts & Crafts Store\n",
              "23   Central Toronto  ...    Fast Food Restaurant\n",
              "24   Central Toronto  ...                     Pub\n",
              "25      West Toronto  ...              Restaurant\n",
              "26   Central Toronto  ...                 Brewery\n",
              "27  Downtown Toronto  ...        Sushi Restaurant\n",
              "28      West Toronto  ...           Burrito Place\n",
              "30  Downtown Toronto  ...             Pizza Place\n",
              "31   Central Toronto  ...                    Bank\n",
              "32  Downtown Toronto  ...           Boat or Ferry\n",
              "34  Downtown Toronto  ...                     Pub\n",
              "35  Downtown Toronto  ...               Gift Shop\n",
              "36  Downtown Toronto  ...             Salad Place\n",
              "37  Downtown Toronto  ...               Gastropub\n",
              "38      East Toronto  ...                 Brewery\n",
              "\n",
              "[34 rows x 12 columns]"
            ]
          },
          "metadata": {
            "tags": []
          },
          "execution_count": 224
        }
      ]
    },
    {
      "cell_type": "code",
      "metadata": {
        "id": "_tJCwSRl-hPZ",
        "colab_type": "code",
        "colab": {
          "base_uri": "https://localhost:8080/",
          "height": 110
        },
        "outputId": "681658dd-62c1-4af6-91f1-007f9174a029"
      },
      "source": [
        "t_merged.loc[t_merged['Cluster Labels'] == 1, t_merged.columns[[1] + list(range(5, t_merged.shape[1]))]]"
      ],
      "execution_count": 220,
      "outputs": [
        {
          "output_type": "execute_result",
          "data": {
            "text/html": [
              "<div>\n",
              "<style scoped>\n",
              "    .dataframe tbody tr th:only-of-type {\n",
              "        vertical-align: middle;\n",
              "    }\n",
              "\n",
              "    .dataframe tbody tr th {\n",
              "        vertical-align: top;\n",
              "    }\n",
              "\n",
              "    .dataframe thead th {\n",
              "        text-align: right;\n",
              "    }\n",
              "</style>\n",
              "<table border=\"1\" class=\"dataframe\">\n",
              "  <thead>\n",
              "    <tr style=\"text-align: right;\">\n",
              "      <th></th>\n",
              "      <th>Borough</th>\n",
              "      <th>Cluster Labels</th>\n",
              "      <th>1st Most Common Venue</th>\n",
              "      <th>2nd Most Common Venue</th>\n",
              "      <th>3rd Most Common Venue</th>\n",
              "      <th>4th Most Common Venue</th>\n",
              "      <th>5th Most Common Venue</th>\n",
              "      <th>6th Most Common Venue</th>\n",
              "      <th>7th Most Common Venue</th>\n",
              "      <th>8th Most Common Venue</th>\n",
              "      <th>9th Most Common Venue</th>\n",
              "      <th>10th Most Common Venue</th>\n",
              "    </tr>\n",
              "  </thead>\n",
              "  <tbody>\n",
              "    <tr>\n",
              "      <th>18</th>\n",
              "      <td>Central Toronto</td>\n",
              "      <td>1</td>\n",
              "      <td>Park</td>\n",
              "      <td>Swim School</td>\n",
              "      <td>Bus Line</td>\n",
              "      <td>Yoga Studio</td>\n",
              "      <td>Deli / Bodega</td>\n",
              "      <td>Electronics Store</td>\n",
              "      <td>Eastern European Restaurant</td>\n",
              "      <td>Donut Shop</td>\n",
              "      <td>Doner Restaurant</td>\n",
              "      <td>Dog Run</td>\n",
              "    </tr>\n",
              "  </tbody>\n",
              "</table>\n",
              "</div>"
            ],
            "text/plain": [
              "            Borough  ...  10th Most Common Venue\n",
              "18  Central Toronto  ...                 Dog Run\n",
              "\n",
              "[1 rows x 12 columns]"
            ]
          },
          "metadata": {
            "tags": []
          },
          "execution_count": 220
        }
      ]
    },
    {
      "cell_type": "code",
      "metadata": {
        "id": "n2IxBuSL-tJ2",
        "colab_type": "code",
        "colab": {
          "base_uri": "https://localhost:8080/",
          "height": 157
        },
        "outputId": "bbcd3353-a7e4-4822-fcd8-fe5d9498d677"
      },
      "source": [
        "t_merged.loc[t_merged['Cluster Labels'] == 2, t_merged.columns[[1] + list(range(5, t_merged.shape[1]))]]"
      ],
      "execution_count": 221,
      "outputs": [
        {
          "output_type": "execute_result",
          "data": {
            "text/html": [
              "<div>\n",
              "<style scoped>\n",
              "    .dataframe tbody tr th:only-of-type {\n",
              "        vertical-align: middle;\n",
              "    }\n",
              "\n",
              "    .dataframe tbody tr th {\n",
              "        vertical-align: top;\n",
              "    }\n",
              "\n",
              "    .dataframe thead th {\n",
              "        text-align: right;\n",
              "    }\n",
              "</style>\n",
              "<table border=\"1\" class=\"dataframe\">\n",
              "  <thead>\n",
              "    <tr style=\"text-align: right;\">\n",
              "      <th></th>\n",
              "      <th>Borough</th>\n",
              "      <th>Cluster Labels</th>\n",
              "      <th>1st Most Common Venue</th>\n",
              "      <th>2nd Most Common Venue</th>\n",
              "      <th>3rd Most Common Venue</th>\n",
              "      <th>4th Most Common Venue</th>\n",
              "      <th>5th Most Common Venue</th>\n",
              "      <th>6th Most Common Venue</th>\n",
              "      <th>7th Most Common Venue</th>\n",
              "      <th>8th Most Common Venue</th>\n",
              "      <th>9th Most Common Venue</th>\n",
              "      <th>10th Most Common Venue</th>\n",
              "    </tr>\n",
              "  </thead>\n",
              "  <tbody>\n",
              "    <tr>\n",
              "      <th>29</th>\n",
              "      <td>Central Toronto</td>\n",
              "      <td>2</td>\n",
              "      <td>Park</td>\n",
              "      <td>Gym</td>\n",
              "      <td>Tennis Court</td>\n",
              "      <td>Trail</td>\n",
              "      <td>Eastern European Restaurant</td>\n",
              "      <td>Donut Shop</td>\n",
              "      <td>Doner Restaurant</td>\n",
              "      <td>Dog Run</td>\n",
              "      <td>Cupcake Shop</td>\n",
              "      <td>Distribution Center</td>\n",
              "    </tr>\n",
              "    <tr>\n",
              "      <th>33</th>\n",
              "      <td>Downtown Toronto</td>\n",
              "      <td>2</td>\n",
              "      <td>Park</td>\n",
              "      <td>Playground</td>\n",
              "      <td>Trail</td>\n",
              "      <td>Yoga Studio</td>\n",
              "      <td>Cupcake Shop</td>\n",
              "      <td>Eastern European Restaurant</td>\n",
              "      <td>Donut Shop</td>\n",
              "      <td>Doner Restaurant</td>\n",
              "      <td>Dog Run</td>\n",
              "      <td>Distribution Center</td>\n",
              "    </tr>\n",
              "  </tbody>\n",
              "</table>\n",
              "</div>"
            ],
            "text/plain": [
              "             Borough  ...  10th Most Common Venue\n",
              "29   Central Toronto  ...     Distribution Center\n",
              "33  Downtown Toronto  ...     Distribution Center\n",
              "\n",
              "[2 rows x 12 columns]"
            ]
          },
          "metadata": {
            "tags": []
          },
          "execution_count": 221
        }
      ]
    },
    {
      "cell_type": "code",
      "metadata": {
        "id": "vSVVsDtW-zEH",
        "colab_type": "code",
        "colab": {
          "base_uri": "https://localhost:8080/",
          "height": 110
        },
        "outputId": "27cae7c6-441e-4a2b-bd9f-0b32e036093e"
      },
      "source": [
        "t_merged.loc[t_merged['Cluster Labels'] == 3, t_merged.columns[[1] + list(range(5, t_merged.shape[1]))]]"
      ],
      "execution_count": 222,
      "outputs": [
        {
          "output_type": "execute_result",
          "data": {
            "text/html": [
              "<div>\n",
              "<style scoped>\n",
              "    .dataframe tbody tr th:only-of-type {\n",
              "        vertical-align: middle;\n",
              "    }\n",
              "\n",
              "    .dataframe tbody tr th {\n",
              "        vertical-align: top;\n",
              "    }\n",
              "\n",
              "    .dataframe thead th {\n",
              "        text-align: right;\n",
              "    }\n",
              "</style>\n",
              "<table border=\"1\" class=\"dataframe\">\n",
              "  <thead>\n",
              "    <tr style=\"text-align: right;\">\n",
              "      <th></th>\n",
              "      <th>Borough</th>\n",
              "      <th>Cluster Labels</th>\n",
              "      <th>1st Most Common Venue</th>\n",
              "      <th>2nd Most Common Venue</th>\n",
              "      <th>3rd Most Common Venue</th>\n",
              "      <th>4th Most Common Venue</th>\n",
              "      <th>5th Most Common Venue</th>\n",
              "      <th>6th Most Common Venue</th>\n",
              "      <th>7th Most Common Venue</th>\n",
              "      <th>8th Most Common Venue</th>\n",
              "      <th>9th Most Common Venue</th>\n",
              "      <th>10th Most Common Venue</th>\n",
              "    </tr>\n",
              "  </thead>\n",
              "  <tbody>\n",
              "    <tr>\n",
              "      <th>21</th>\n",
              "      <td>Central Toronto</td>\n",
              "      <td>3</td>\n",
              "      <td>Park</td>\n",
              "      <td>Jewelry Store</td>\n",
              "      <td>Trail</td>\n",
              "      <td>Sushi Restaurant</td>\n",
              "      <td>Dance Studio</td>\n",
              "      <td>Electronics Store</td>\n",
              "      <td>Eastern European Restaurant</td>\n",
              "      <td>Donut Shop</td>\n",
              "      <td>Doner Restaurant</td>\n",
              "      <td>Dog Run</td>\n",
              "    </tr>\n",
              "  </tbody>\n",
              "</table>\n",
              "</div>"
            ],
            "text/plain": [
              "            Borough  ...  10th Most Common Venue\n",
              "21  Central Toronto  ...                 Dog Run\n",
              "\n",
              "[1 rows x 12 columns]"
            ]
          },
          "metadata": {
            "tags": []
          },
          "execution_count": 222
        }
      ]
    },
    {
      "cell_type": "code",
      "metadata": {
        "id": "pzx28cVR-3uV",
        "colab_type": "code",
        "colab": {
          "base_uri": "https://localhost:8080/",
          "height": 110
        },
        "outputId": "1580d736-7105-412f-eb75-7d9d1eae2aa7"
      },
      "source": [
        "t_merged.loc[t_merged['Cluster Labels'] == 4, t_merged.columns[[1] + list(range(5, t_merged.shape[1]))]]"
      ],
      "execution_count": 223,
      "outputs": [
        {
          "output_type": "execute_result",
          "data": {
            "text/html": [
              "<div>\n",
              "<style scoped>\n",
              "    .dataframe tbody tr th:only-of-type {\n",
              "        vertical-align: middle;\n",
              "    }\n",
              "\n",
              "    .dataframe tbody tr th {\n",
              "        vertical-align: top;\n",
              "    }\n",
              "\n",
              "    .dataframe thead th {\n",
              "        text-align: right;\n",
              "    }\n",
              "</style>\n",
              "<table border=\"1\" class=\"dataframe\">\n",
              "  <thead>\n",
              "    <tr style=\"text-align: right;\">\n",
              "      <th></th>\n",
              "      <th>Borough</th>\n",
              "      <th>Cluster Labels</th>\n",
              "      <th>1st Most Common Venue</th>\n",
              "      <th>2nd Most Common Venue</th>\n",
              "      <th>3rd Most Common Venue</th>\n",
              "      <th>4th Most Common Venue</th>\n",
              "      <th>5th Most Common Venue</th>\n",
              "      <th>6th Most Common Venue</th>\n",
              "      <th>7th Most Common Venue</th>\n",
              "      <th>8th Most Common Venue</th>\n",
              "      <th>9th Most Common Venue</th>\n",
              "      <th>10th Most Common Venue</th>\n",
              "    </tr>\n",
              "  </thead>\n",
              "  <tbody>\n",
              "    <tr>\n",
              "      <th>19</th>\n",
              "      <td>Central Toronto</td>\n",
              "      <td>4</td>\n",
              "      <td>Home Service</td>\n",
              "      <td>Garden</td>\n",
              "      <td>Yoga Studio</td>\n",
              "      <td>Dance Studio</td>\n",
              "      <td>Ethiopian Restaurant</td>\n",
              "      <td>Electronics Store</td>\n",
              "      <td>Eastern European Restaurant</td>\n",
              "      <td>Donut Shop</td>\n",
              "      <td>Doner Restaurant</td>\n",
              "      <td>Dog Run</td>\n",
              "    </tr>\n",
              "  </tbody>\n",
              "</table>\n",
              "</div>"
            ],
            "text/plain": [
              "            Borough  ...  10th Most Common Venue\n",
              "19  Central Toronto  ...                 Dog Run\n",
              "\n",
              "[1 rows x 12 columns]"
            ]
          },
          "metadata": {
            "tags": []
          },
          "execution_count": 223
        }
      ]
    },
    {
      "cell_type": "code",
      "metadata": {
        "id": "bdndDinf-8Bk",
        "colab_type": "code",
        "colab": {}
      },
      "source": [
        ""
      ],
      "execution_count": 0,
      "outputs": []
    }
  ]
}